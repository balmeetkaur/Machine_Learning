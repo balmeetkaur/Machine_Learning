{
 "cells": [
  {
   "cell_type": "markdown",
   "id": "9c6bba2b",
   "metadata": {},
   "source": [
    "**Problem Statement**:\n",
    "The Pima Indians Diabetes Dataset involves predicting the onset of diabetes within 5 years in Pima Indians given medical details.\n",
    "It is a binary (2-class) classification problem.  There are 768 observations with 8 input variables and 1 output variable.  The variable names are as follows:\n",
    "1.\tNumber of times pregnant.\n",
    "2.\tPlasma glucose concentration 2 hours in an oral glucose tolerance test.\n",
    "3.\tDiastolic blood pressure (mm Hg).\n",
    "4.\tTriceps skinfold thickness (mm).\n",
    "5.\t2-Hour serum insulin (mu U/ml).\n",
    "6.\tBody mass index (weight in kg/(height in m)^2).\n",
    "7.\tDiabetes pedigree function.\n",
    "8.\tAge (years).\n",
    "9.\tIs Diabetic (0 or 1)."
   ]
  },
  {
   "cell_type": "markdown",
   "id": "34e85183",
   "metadata": {},
   "source": [
    "### On this data we apply adaboost,gradientboost and xgboost an will see their performance "
   ]
  },
  {
   "cell_type": "markdown",
   "id": "b4871a64",
   "metadata": {},
   "source": [
    "#### Importing required libraries"
   ]
  },
  {
   "cell_type": "code",
   "execution_count": 1,
   "id": "8096586c",
   "metadata": {},
   "outputs": [],
   "source": [
    "import pandas as pd\n",
    "import numpy as np\n",
    "from sklearn.ensemble import AdaBoostClassifier\n",
    "from sklearn.model_selection import train_test_split\n",
    "from xgboost import XGBClassifier\n",
    "from sklearn.metrics import accuracy_score"
   ]
  },
  {
   "cell_type": "markdown",
   "id": "042bf43c",
   "metadata": {},
   "source": [
    "#### Loading Data Set"
   ]
  },
  {
   "cell_type": "code",
   "execution_count": 2,
   "id": "821e1a0b",
   "metadata": {},
   "outputs": [
    {
     "data": {
      "text/html": [
       "<div>\n",
       "<style scoped>\n",
       "    .dataframe tbody tr th:only-of-type {\n",
       "        vertical-align: middle;\n",
       "    }\n",
       "\n",
       "    .dataframe tbody tr th {\n",
       "        vertical-align: top;\n",
       "    }\n",
       "\n",
       "    .dataframe thead th {\n",
       "        text-align: right;\n",
       "    }\n",
       "</style>\n",
       "<table border=\"1\" class=\"dataframe\">\n",
       "  <thead>\n",
       "    <tr style=\"text-align: right;\">\n",
       "      <th></th>\n",
       "      <th>Pregnancies</th>\n",
       "      <th>Glucose</th>\n",
       "      <th>BloodPressure</th>\n",
       "      <th>SkinThickness</th>\n",
       "      <th>Insulin</th>\n",
       "      <th>BMI</th>\n",
       "      <th>DiabetesPedigreeFunction</th>\n",
       "      <th>Age</th>\n",
       "      <th>Outcome</th>\n",
       "    </tr>\n",
       "  </thead>\n",
       "  <tbody>\n",
       "    <tr>\n",
       "      <th>0</th>\n",
       "      <td>6</td>\n",
       "      <td>148</td>\n",
       "      <td>72</td>\n",
       "      <td>35</td>\n",
       "      <td>0</td>\n",
       "      <td>33.6</td>\n",
       "      <td>0.627</td>\n",
       "      <td>50</td>\n",
       "      <td>1</td>\n",
       "    </tr>\n",
       "    <tr>\n",
       "      <th>1</th>\n",
       "      <td>1</td>\n",
       "      <td>85</td>\n",
       "      <td>66</td>\n",
       "      <td>29</td>\n",
       "      <td>0</td>\n",
       "      <td>26.6</td>\n",
       "      <td>0.351</td>\n",
       "      <td>31</td>\n",
       "      <td>0</td>\n",
       "    </tr>\n",
       "  </tbody>\n",
       "</table>\n",
       "</div>"
      ],
      "text/plain": [
       "   Pregnancies  Glucose  BloodPressure  SkinThickness  Insulin   BMI  \\\n",
       "0            6      148             72             35        0  33.6   \n",
       "1            1       85             66             29        0  26.6   \n",
       "\n",
       "   DiabetesPedigreeFunction  Age  Outcome  \n",
       "0                     0.627   50        1  \n",
       "1                     0.351   31        0  "
      ]
     },
     "execution_count": 2,
     "metadata": {},
     "output_type": "execute_result"
    }
   ],
   "source": [
    "df=pd.read_csv(\"D:\\\\python_datascience\\\\data sets\\\\diabetes.csv\")\n",
    "df.head(2)"
   ]
  },
  {
   "cell_type": "markdown",
   "id": "b6a7ed2f",
   "metadata": {},
   "source": [
    "### Getting shape of data "
   ]
  },
  {
   "cell_type": "code",
   "execution_count": 3,
   "id": "f9758a95",
   "metadata": {},
   "outputs": [
    {
     "data": {
      "text/plain": [
       "(768, 9)"
      ]
     },
     "execution_count": 3,
     "metadata": {},
     "output_type": "execute_result"
    }
   ],
   "source": [
    "df.shape"
   ]
  },
  {
   "cell_type": "markdown",
   "id": "dd965cf3",
   "metadata": {},
   "source": [
    "#### Checking missing values "
   ]
  },
  {
   "cell_type": "code",
   "execution_count": 4,
   "id": "1c703685",
   "metadata": {},
   "outputs": [
    {
     "data": {
      "text/plain": [
       "Pregnancies                 0\n",
       "Glucose                     0\n",
       "BloodPressure               0\n",
       "SkinThickness               0\n",
       "Insulin                     0\n",
       "BMI                         0\n",
       "DiabetesPedigreeFunction    0\n",
       "Age                         0\n",
       "Outcome                     0\n",
       "dtype: int64"
      ]
     },
     "execution_count": 4,
     "metadata": {},
     "output_type": "execute_result"
    }
   ],
   "source": [
    "df.isnull().sum()"
   ]
  },
  {
   "cell_type": "markdown",
   "id": "5ad49a31",
   "metadata": {},
   "source": [
    "The data has no missing values"
   ]
  },
  {
   "cell_type": "markdown",
   "id": "87529216",
   "metadata": {},
   "source": [
    "#### checking class imbalance"
   ]
  },
  {
   "cell_type": "code",
   "execution_count": 5,
   "id": "7138b87d",
   "metadata": {},
   "outputs": [
    {
     "data": {
      "text/plain": [
       "0    500\n",
       "1    268\n",
       "Name: Outcome, dtype: int64"
      ]
     },
     "execution_count": 5,
     "metadata": {},
     "output_type": "execute_result"
    }
   ],
   "source": [
    "df[\"Outcome\"].value_counts()"
   ]
  },
  {
   "cell_type": "markdown",
   "id": "4373e6e2",
   "metadata": {},
   "source": [
    "here , it is slightly imbalanced so we  may not need to use oversampling"
   ]
  },
  {
   "cell_type": "markdown",
   "id": "04e1f47e",
   "metadata": {},
   "source": [
    "#### Dividing features as x and target as y"
   ]
  },
  {
   "cell_type": "code",
   "execution_count": 6,
   "id": "09336199",
   "metadata": {},
   "outputs": [
    {
     "data": {
      "text/html": [
       "<div>\n",
       "<style scoped>\n",
       "    .dataframe tbody tr th:only-of-type {\n",
       "        vertical-align: middle;\n",
       "    }\n",
       "\n",
       "    .dataframe tbody tr th {\n",
       "        vertical-align: top;\n",
       "    }\n",
       "\n",
       "    .dataframe thead th {\n",
       "        text-align: right;\n",
       "    }\n",
       "</style>\n",
       "<table border=\"1\" class=\"dataframe\">\n",
       "  <thead>\n",
       "    <tr style=\"text-align: right;\">\n",
       "      <th></th>\n",
       "      <th>Pregnancies</th>\n",
       "      <th>Glucose</th>\n",
       "      <th>BloodPressure</th>\n",
       "      <th>SkinThickness</th>\n",
       "      <th>Insulin</th>\n",
       "      <th>BMI</th>\n",
       "      <th>DiabetesPedigreeFunction</th>\n",
       "      <th>Age</th>\n",
       "    </tr>\n",
       "  </thead>\n",
       "  <tbody>\n",
       "    <tr>\n",
       "      <th>0</th>\n",
       "      <td>6</td>\n",
       "      <td>148</td>\n",
       "      <td>72</td>\n",
       "      <td>35</td>\n",
       "      <td>0</td>\n",
       "      <td>33.6</td>\n",
       "      <td>0.627</td>\n",
       "      <td>50</td>\n",
       "    </tr>\n",
       "    <tr>\n",
       "      <th>1</th>\n",
       "      <td>1</td>\n",
       "      <td>85</td>\n",
       "      <td>66</td>\n",
       "      <td>29</td>\n",
       "      <td>0</td>\n",
       "      <td>26.6</td>\n",
       "      <td>0.351</td>\n",
       "      <td>31</td>\n",
       "    </tr>\n",
       "    <tr>\n",
       "      <th>2</th>\n",
       "      <td>8</td>\n",
       "      <td>183</td>\n",
       "      <td>64</td>\n",
       "      <td>0</td>\n",
       "      <td>0</td>\n",
       "      <td>23.3</td>\n",
       "      <td>0.672</td>\n",
       "      <td>32</td>\n",
       "    </tr>\n",
       "    <tr>\n",
       "      <th>3</th>\n",
       "      <td>1</td>\n",
       "      <td>89</td>\n",
       "      <td>66</td>\n",
       "      <td>23</td>\n",
       "      <td>94</td>\n",
       "      <td>28.1</td>\n",
       "      <td>0.167</td>\n",
       "      <td>21</td>\n",
       "    </tr>\n",
       "    <tr>\n",
       "      <th>4</th>\n",
       "      <td>0</td>\n",
       "      <td>137</td>\n",
       "      <td>40</td>\n",
       "      <td>35</td>\n",
       "      <td>168</td>\n",
       "      <td>43.1</td>\n",
       "      <td>2.288</td>\n",
       "      <td>33</td>\n",
       "    </tr>\n",
       "  </tbody>\n",
       "</table>\n",
       "</div>"
      ],
      "text/plain": [
       "   Pregnancies  Glucose  BloodPressure  SkinThickness  Insulin   BMI  \\\n",
       "0            6      148             72             35        0  33.6   \n",
       "1            1       85             66             29        0  26.6   \n",
       "2            8      183             64              0        0  23.3   \n",
       "3            1       89             66             23       94  28.1   \n",
       "4            0      137             40             35      168  43.1   \n",
       "\n",
       "   DiabetesPedigreeFunction  Age  \n",
       "0                     0.627   50  \n",
       "1                     0.351   31  \n",
       "2                     0.672   32  \n",
       "3                     0.167   21  \n",
       "4                     2.288   33  "
      ]
     },
     "execution_count": 6,
     "metadata": {},
     "output_type": "execute_result"
    }
   ],
   "source": [
    "x=df.drop(columns=[\"Outcome\"])\n",
    "x.head()  ## features "
   ]
  },
  {
   "cell_type": "code",
   "execution_count": 7,
   "id": "6b631fd7",
   "metadata": {},
   "outputs": [
    {
     "data": {
      "text/plain": [
       "0    1\n",
       "1    0\n",
       "2    1\n",
       "3    0\n",
       "4    1\n",
       "Name: Outcome, dtype: int64"
      ]
     },
     "execution_count": 7,
     "metadata": {},
     "output_type": "execute_result"
    }
   ],
   "source": [
    "y=df[\"Outcome\"]\n",
    "y.head()  ## target"
   ]
  },
  {
   "cell_type": "markdown",
   "id": "0c504628",
   "metadata": {},
   "source": [
    "#### Dividing the data into training and test data "
   ]
  },
  {
   "cell_type": "code",
   "execution_count": 8,
   "id": "65eb3978",
   "metadata": {},
   "outputs": [],
   "source": [
    "x_train,x_test,y_train,y_test=train_test_split(x,y,random_state=42) # default : 0.25"
   ]
  },
  {
   "cell_type": "code",
   "execution_count": 9,
   "id": "bf5b9ba9",
   "metadata": {},
   "outputs": [
    {
     "name": "stdout",
     "output_type": "stream",
     "text": [
      "(576, 8)\n",
      "(576,)\n",
      "(192, 8)\n",
      "(192,)\n"
     ]
    }
   ],
   "source": [
    "#### Shape of train and test data \n",
    "print(x_train.shape)\n",
    "print(y_train.shape)\n",
    "print(x_test.shape)\n",
    "print(y_test.shape)"
   ]
  },
  {
   "cell_type": "markdown",
   "id": "bd614fc4",
   "metadata": {},
   "source": [
    "#### Model Fitting  using AdaBoostClassifier"
   ]
  },
  {
   "cell_type": "code",
   "execution_count": 10,
   "id": "7e8d2db8",
   "metadata": {},
   "outputs": [],
   "source": [
    "adaboost=AdaBoostClassifier(n_estimators=50) \n"
   ]
  },
  {
   "cell_type": "markdown",
   "id": "d8e52ac0",
   "metadata": {},
   "source": [
    "Important parameters \n",
    "\n",
    " n_estimators : defines the number of weal learners  which is to be trained iteratively.\n",
    "\n",
    "\n",
    "Learning_rate :it contributes to the weight of weak learners it uses 1 as default value"
   ]
  },
  {
   "cell_type": "markdown",
   "id": "d0eafbe4",
   "metadata": {},
   "source": []
  },
  {
   "cell_type": "code",
   "execution_count": 11,
   "id": "1537b7ce",
   "metadata": {},
   "outputs": [],
   "source": [
    "#### Train AdaBoost Classifier \n",
    "model=adaboost.fit(x_train,y_train)"
   ]
  },
  {
   "cell_type": "code",
   "execution_count": 12,
   "id": "7377c9e5",
   "metadata": {},
   "outputs": [],
   "source": [
    "#### Predictions \n",
    "y_pred=model.predict(x_test)"
   ]
  },
  {
   "cell_type": "code",
   "execution_count": 13,
   "id": "5f95c54a",
   "metadata": {},
   "outputs": [
    {
     "data": {
      "text/plain": [
       "0.7239583333333334"
      ]
     },
     "execution_count": 13,
     "metadata": {},
     "output_type": "execute_result"
    }
   ],
   "source": [
    "### Model Evaluation\n",
    "accuracy_score(y_test,y_pred)"
   ]
  },
  {
   "cell_type": "markdown",
   "id": "cd041a1a",
   "metadata": {},
   "source": [
    "#### here, we can see the accuracy of Adaboost algorithm without doing any feature engineering we get 72% on this data using AdaBoost with default parameters."
   ]
  },
  {
   "cell_type": "markdown",
   "id": "0af7f78e",
   "metadata": {},
   "source": [
    "####  Lets see few aspects of AdaBoost and hyper parameter tuning "
   ]
  },
  {
   "cell_type": "code",
   "execution_count": 14,
   "id": "86c704a0",
   "metadata": {},
   "outputs": [],
   "source": [
    "## import logistic Regression Model\n",
    "from sklearn.linear_model import LogisticRegression"
   ]
  },
  {
   "cell_type": "code",
   "execution_count": 15,
   "id": "5fa7e801",
   "metadata": {},
   "outputs": [],
   "source": [
    "lm=LogisticRegression()"
   ]
  },
  {
   "cell_type": "code",
   "execution_count": 16,
   "id": "5451dad2",
   "metadata": {},
   "outputs": [],
   "source": [
    "## Train adaboost with base_estimator as logstic regression since default is Decision Tree just playing with its parameters \n",
    "adab=AdaBoostClassifier(n_estimators=50,base_estimator=lm,learning_rate=1)\n",
    "## The base estimator from which the ensemble is grown."
   ]
  },
  {
   "cell_type": "code",
   "execution_count": 17,
   "id": "6a562df5",
   "metadata": {},
   "outputs": [
    {
     "name": "stderr",
     "output_type": "stream",
     "text": [
      "C:\\Users\\acer\\anaconda3\\lib\\site-packages\\sklearn\\linear_model\\_logistic.py:814: ConvergenceWarning: lbfgs failed to converge (status=1):\n",
      "STOP: TOTAL NO. of ITERATIONS REACHED LIMIT.\n",
      "\n",
      "Increase the number of iterations (max_iter) or scale the data as shown in:\n",
      "    https://scikit-learn.org/stable/modules/preprocessing.html\n",
      "Please also refer to the documentation for alternative solver options:\n",
      "    https://scikit-learn.org/stable/modules/linear_model.html#logistic-regression\n",
      "  n_iter_i = _check_optimize_result(\n",
      "C:\\Users\\acer\\anaconda3\\lib\\site-packages\\sklearn\\linear_model\\_logistic.py:814: ConvergenceWarning: lbfgs failed to converge (status=1):\n",
      "STOP: TOTAL NO. of ITERATIONS REACHED LIMIT.\n",
      "\n",
      "Increase the number of iterations (max_iter) or scale the data as shown in:\n",
      "    https://scikit-learn.org/stable/modules/preprocessing.html\n",
      "Please also refer to the documentation for alternative solver options:\n",
      "    https://scikit-learn.org/stable/modules/linear_model.html#logistic-regression\n",
      "  n_iter_i = _check_optimize_result(\n"
     ]
    }
   ],
   "source": [
    "## Train the model\n",
    "mo=adab.fit(x_train,y_train)"
   ]
  },
  {
   "cell_type": "code",
   "execution_count": 18,
   "id": "8b58ed26",
   "metadata": {},
   "outputs": [],
   "source": [
    "#### Predictions \n",
    "y_pred=mo.predict(x_test)"
   ]
  },
  {
   "cell_type": "code",
   "execution_count": 19,
   "id": "64485fd0",
   "metadata": {},
   "outputs": [
    {
     "data": {
      "text/plain": [
       "0.703125"
      ]
     },
     "execution_count": 19,
     "metadata": {},
     "output_type": "execute_result"
    }
   ],
   "source": [
    "### Model Evaluation\n",
    "accuracy_score(y_test,y_pred)"
   ]
  },
  {
   "cell_type": "markdown",
   "id": "4f4b079f",
   "metadata": {},
   "source": [
    "### As we can see we used base_estimator as logistic regression it gives less accuracy than adaboost with default paramteres "
   ]
  },
  {
   "cell_type": "code",
   "execution_count": 20,
   "id": "444f2576",
   "metadata": {},
   "outputs": [
    {
     "data": {
      "text/plain": [
       "0.7395833333333334"
      ]
     },
     "execution_count": 20,
     "metadata": {},
     "output_type": "execute_result"
    }
   ],
   "source": [
    "### Taking n_estimators=100 to tune the model in order to see the improvment in performance \n",
    "adab=AdaBoostClassifier(n_estimators=100,learning_rate=1)\n",
    "## Train the model\n",
    "mo=adab.fit(x_train,y_train)\n",
    "#### Predictions \n",
    "y_pred=mo.predict(x_test)\n",
    "### Model Evaluation\n",
    "accuracy_score(y_test,y_pred)"
   ]
  },
  {
   "cell_type": "markdown",
   "id": "614f509e",
   "metadata": {},
   "source": [
    "#### as we can see by taking 100 estimators we got 73.9% accuracy so  this we can play with hyper parameters "
   ]
  },
  {
   "cell_type": "markdown",
   "id": "80a4156c",
   "metadata": {},
   "source": [
    "#### Importing gradient boost classifier "
   ]
  },
  {
   "cell_type": "code",
   "execution_count": 21,
   "id": "e8d46859",
   "metadata": {},
   "outputs": [],
   "source": [
    "from sklearn.ensemble import GradientBoostingClassifier\n"
   ]
  },
  {
   "cell_type": "code",
   "execution_count": 22,
   "id": "376661a3",
   "metadata": {},
   "outputs": [
    {
     "name": "stdout",
     "output_type": "stream",
     "text": [
      "(576, 8)\n",
      "(576,)\n",
      "(192, 8)\n",
      "(192,)\n"
     ]
    }
   ],
   "source": [
    "print(x_train.shape)\n",
    "print(y_train.shape)\n",
    "print(x_test.shape)\n",
    "print(y_test.shape)"
   ]
  },
  {
   "cell_type": "code",
   "execution_count": 23,
   "id": "110a8354",
   "metadata": {},
   "outputs": [
    {
     "data": {
      "text/plain": [
       "0.7395833333333334"
      ]
     },
     "execution_count": 23,
     "metadata": {},
     "output_type": "execute_result"
    }
   ],
   "source": [
    "gbc=GradientBoostingClassifier() ## with default parameters\n",
    "gbcm=gbc.fit(x_train,y_train)\n",
    "#### Predictions \n",
    "y_pred=gbcm.predict(x_test)\n",
    "### Model Evaluation\n",
    "accuracy_score(y_test,y_pred)"
   ]
  },
  {
   "cell_type": "markdown",
   "id": "2b181b11",
   "metadata": {},
   "source": [
    "#### As we can see GradientBoosting Gives Better performance i.e 73.9% accuracy  than Adaboost  with default parameters "
   ]
  },
  {
   "cell_type": "markdown",
   "id": "2fc1aabd",
   "metadata": {},
   "source": [
    "####  Hyper parameter Tuning \n",
    "Important parameters :\n",
    "\n",
    "- n_estimators\n",
    "\n",
    "- learning_rate"
   ]
  },
  {
   "cell_type": "code",
   "execution_count": 24,
   "id": "3156d53e",
   "metadata": {},
   "outputs": [
    {
     "data": {
      "text/plain": [
       "0.640625"
      ]
     },
     "execution_count": 24,
     "metadata": {},
     "output_type": "execute_result"
    }
   ],
   "source": [
    " ### Lets do Hyper parameter Tuning of parameters max_depth and n_estimators and see the results\n",
    "gbc=GradientBoostingClassifier(max_depth=2,n_estimators=3)\n",
    "gbcm=gbc.fit(x_train,y_train)\n",
    "#### Predictions \n",
    "y_pred=gbcm.predict(x_test)\n",
    "### Model Evaluation\n",
    "accuracy_score(y_test,y_pred)"
   ]
  },
  {
   "cell_type": "markdown",
   "id": "23e3034c",
   "metadata": {},
   "source": [
    "performance got drop down with max_depth=2 and n_estimators=3"
   ]
  },
  {
   "cell_type": "markdown",
   "id": "3120a9e0",
   "metadata": {},
   "source": [
    "### Getting optimal parameters for GradientBoostingClassifier using gridsearchcv"
   ]
  },
  {
   "cell_type": "code",
   "execution_count": 25,
   "id": "b61dbc17",
   "metadata": {},
   "outputs": [
    {
     "name": "stdout",
     "output_type": "stream",
     "text": [
      "Fitting 5 folds for each of 16 candidates, totalling 80 fits\n",
      "[CV 1/5] END learning_rate=0.15, n_estimators=100;, score=0.784 total time=   0.0s\n",
      "[CV 2/5] END learning_rate=0.15, n_estimators=100;, score=0.791 total time=   0.0s\n",
      "[CV 3/5] END learning_rate=0.15, n_estimators=100;, score=0.800 total time=   0.0s\n",
      "[CV 4/5] END learning_rate=0.15, n_estimators=100;, score=0.713 total time=   0.0s\n",
      "[CV 5/5] END learning_rate=0.15, n_estimators=100;, score=0.722 total time=   0.0s\n",
      "[CV 1/5] END learning_rate=0.15, n_estimators=150;, score=0.767 total time=   0.1s\n",
      "[CV 2/5] END learning_rate=0.15, n_estimators=150;, score=0.757 total time=   0.1s\n",
      "[CV 3/5] END learning_rate=0.15, n_estimators=150;, score=0.817 total time=   0.1s\n",
      "[CV 4/5] END learning_rate=0.15, n_estimators=150;, score=0.730 total time=   0.1s\n",
      "[CV 5/5] END learning_rate=0.15, n_estimators=150;, score=0.739 total time=   0.1s\n",
      "[CV 1/5] END learning_rate=0.15, n_estimators=200;, score=0.759 total time=   0.1s\n",
      "[CV 2/5] END learning_rate=0.15, n_estimators=200;, score=0.739 total time=   0.1s\n",
      "[CV 3/5] END learning_rate=0.15, n_estimators=200;, score=0.800 total time=   0.1s\n",
      "[CV 4/5] END learning_rate=0.15, n_estimators=200;, score=0.704 total time=   0.1s\n",
      "[CV 5/5] END learning_rate=0.15, n_estimators=200;, score=0.748 total time=   0.1s\n",
      "[CV 1/5] END learning_rate=0.15, n_estimators=250;, score=0.759 total time=   0.2s\n",
      "[CV 2/5] END learning_rate=0.15, n_estimators=250;, score=0.748 total time=   0.2s\n",
      "[CV 3/5] END learning_rate=0.15, n_estimators=250;, score=0.800 total time=   0.2s\n",
      "[CV 4/5] END learning_rate=0.15, n_estimators=250;, score=0.722 total time=   0.2s\n",
      "[CV 5/5] END learning_rate=0.15, n_estimators=250;, score=0.722 total time=   0.2s\n",
      "[CV 1/5] END learning_rate=0.1, n_estimators=100;, score=0.776 total time=   0.0s\n",
      "[CV 2/5] END learning_rate=0.1, n_estimators=100;, score=0.800 total time=   0.0s\n",
      "[CV 3/5] END learning_rate=0.1, n_estimators=100;, score=0.835 total time=   0.0s\n",
      "[CV 4/5] END learning_rate=0.1, n_estimators=100;, score=0.713 total time=   0.0s\n",
      "[CV 5/5] END learning_rate=0.1, n_estimators=100;, score=0.739 total time=   0.0s\n",
      "[CV 1/5] END learning_rate=0.1, n_estimators=150;, score=0.776 total time=   0.1s\n",
      "[CV 2/5] END learning_rate=0.1, n_estimators=150;, score=0.783 total time=   0.1s\n",
      "[CV 3/5] END learning_rate=0.1, n_estimators=150;, score=0.809 total time=   0.1s\n",
      "[CV 4/5] END learning_rate=0.1, n_estimators=150;, score=0.730 total time=   0.1s\n",
      "[CV 5/5] END learning_rate=0.1, n_estimators=150;, score=0.722 total time=   0.1s\n",
      "[CV 1/5] END learning_rate=0.1, n_estimators=200;, score=0.767 total time=   0.2s\n",
      "[CV 2/5] END learning_rate=0.1, n_estimators=200;, score=0.783 total time=   0.1s\n",
      "[CV 3/5] END learning_rate=0.1, n_estimators=200;, score=0.800 total time=   0.1s\n",
      "[CV 4/5] END learning_rate=0.1, n_estimators=200;, score=0.722 total time=   0.1s\n",
      "[CV 5/5] END learning_rate=0.1, n_estimators=200;, score=0.730 total time=   0.1s\n",
      "[CV 1/5] END learning_rate=0.1, n_estimators=250;, score=0.759 total time=   0.2s\n",
      "[CV 2/5] END learning_rate=0.1, n_estimators=250;, score=0.791 total time=   0.2s\n",
      "[CV 3/5] END learning_rate=0.1, n_estimators=250;, score=0.817 total time=   0.2s\n",
      "[CV 4/5] END learning_rate=0.1, n_estimators=250;, score=0.730 total time=   0.2s\n",
      "[CV 5/5] END learning_rate=0.1, n_estimators=250;, score=0.722 total time=   0.2s\n",
      "[CV 1/5] END learning_rate=0.1, n_estimators=100;, score=0.776 total time=   0.0s\n",
      "[CV 2/5] END learning_rate=0.1, n_estimators=100;, score=0.800 total time=   0.0s\n",
      "[CV 3/5] END learning_rate=0.1, n_estimators=100;, score=0.835 total time=   0.1s\n",
      "[CV 4/5] END learning_rate=0.1, n_estimators=100;, score=0.713 total time=   0.1s\n",
      "[CV 5/5] END learning_rate=0.1, n_estimators=100;, score=0.739 total time=   0.0s\n",
      "[CV 1/5] END learning_rate=0.1, n_estimators=150;, score=0.784 total time=   0.1s\n",
      "[CV 2/5] END learning_rate=0.1, n_estimators=150;, score=0.783 total time=   0.1s\n",
      "[CV 3/5] END learning_rate=0.1, n_estimators=150;, score=0.809 total time=   0.1s\n",
      "[CV 4/5] END learning_rate=0.1, n_estimators=150;, score=0.730 total time=   0.2s\n",
      "[CV 5/5] END learning_rate=0.1, n_estimators=150;, score=0.730 total time=   0.2s\n",
      "[CV 1/5] END learning_rate=0.1, n_estimators=200;, score=0.759 total time=   0.2s\n",
      "[CV 2/5] END learning_rate=0.1, n_estimators=200;, score=0.783 total time=   0.2s\n",
      "[CV 3/5] END learning_rate=0.1, n_estimators=200;, score=0.800 total time=   0.2s\n",
      "[CV 4/5] END learning_rate=0.1, n_estimators=200;, score=0.722 total time=   0.2s\n",
      "[CV 5/5] END learning_rate=0.1, n_estimators=200;, score=0.730 total time=   0.2s\n",
      "[CV 1/5] END learning_rate=0.1, n_estimators=250;, score=0.750 total time=   0.2s\n",
      "[CV 2/5] END learning_rate=0.1, n_estimators=250;, score=0.800 total time=   0.2s\n",
      "[CV 3/5] END learning_rate=0.1, n_estimators=250;, score=0.817 total time=   0.2s\n",
      "[CV 4/5] END learning_rate=0.1, n_estimators=250;, score=0.730 total time=   0.2s\n",
      "[CV 5/5] END learning_rate=0.1, n_estimators=250;, score=0.730 total time=   0.2s\n",
      "[CV 1/5] END learning_rate=0.05, n_estimators=100;, score=0.810 total time=   0.1s\n",
      "[CV 2/5] END learning_rate=0.05, n_estimators=100;, score=0.774 total time=   0.0s\n",
      "[CV 3/5] END learning_rate=0.05, n_estimators=100;, score=0.791 total time=   0.0s\n",
      "[CV 4/5] END learning_rate=0.05, n_estimators=100;, score=0.696 total time=   0.0s\n",
      "[CV 5/5] END learning_rate=0.05, n_estimators=100;, score=0.757 total time=   0.0s\n",
      "[CV 1/5] END learning_rate=0.05, n_estimators=150;, score=0.784 total time=   0.1s\n",
      "[CV 2/5] END learning_rate=0.05, n_estimators=150;, score=0.783 total time=   0.1s\n",
      "[CV 3/5] END learning_rate=0.05, n_estimators=150;, score=0.826 total time=   0.1s\n",
      "[CV 4/5] END learning_rate=0.05, n_estimators=150;, score=0.704 total time=   0.1s\n",
      "[CV 5/5] END learning_rate=0.05, n_estimators=150;, score=0.739 total time=   0.1s\n",
      "[CV 1/5] END learning_rate=0.05, n_estimators=200;, score=0.776 total time=   0.1s\n",
      "[CV 2/5] END learning_rate=0.05, n_estimators=200;, score=0.783 total time=   0.1s\n",
      "[CV 3/5] END learning_rate=0.05, n_estimators=200;, score=0.809 total time=   0.2s\n",
      "[CV 4/5] END learning_rate=0.05, n_estimators=200;, score=0.713 total time=   0.2s\n",
      "[CV 5/5] END learning_rate=0.05, n_estimators=200;, score=0.739 total time=   0.1s\n",
      "[CV 1/5] END learning_rate=0.05, n_estimators=250;, score=0.784 total time=   0.2s\n",
      "[CV 2/5] END learning_rate=0.05, n_estimators=250;, score=0.791 total time=   0.2s\n",
      "[CV 3/5] END learning_rate=0.05, n_estimators=250;, score=0.809 total time=   0.2s\n",
      "[CV 4/5] END learning_rate=0.05, n_estimators=250;, score=0.739 total time=   0.2s\n",
      "[CV 5/5] END learning_rate=0.05, n_estimators=250;, score=0.722 total time=   0.2s\n"
     ]
    },
    {
     "data": {
      "text/plain": [
       "GridSearchCV(estimator=GradientBoostingClassifier(),\n",
       "             param_grid={'learning_rate': [0.15, 0.1, 0.1, 0.05],\n",
       "                         'n_estimators': [100, 150, 200, 250]},\n",
       "             verbose=3)"
      ]
     },
     "execution_count": 25,
     "metadata": {},
     "output_type": "execute_result"
    }
   ],
   "source": [
    "from sklearn.model_selection import GridSearchCV\n",
    "param_grid_gbc={'learning_rate':[0.15,0.1,0.10,0.05],\"n_estimators\":[100,150,200,250]}\n",
    "grid=GridSearchCV(estimator=GradientBoostingClassifier(),param_grid=param_grid_gbc,verbose=3)\n",
    "\n",
    "\n",
    "#grid= GridSearchCV(XGBClassifier(objective='binary:logistic'),param_grid,verbose=3)\n",
    "grid.fit(x_train,y_train)\n"
   ]
  },
  {
   "cell_type": "code",
   "execution_count": 26,
   "id": "7ea6c4e5",
   "metadata": {},
   "outputs": [
    {
     "data": {
      "text/plain": [
       "{'learning_rate': 0.1, 'n_estimators': 100}"
      ]
     },
     "execution_count": 26,
     "metadata": {},
     "output_type": "execute_result"
    }
   ],
   "source": [
    "# To  find the parameters giving maximum accuracy\n",
    "grid.best_params_"
   ]
  },
  {
   "cell_type": "code",
   "execution_count": 27,
   "id": "9ba7c7c1",
   "metadata": {},
   "outputs": [
    {
     "data": {
      "text/plain": [
       "0.7239583333333334"
      ]
     },
     "execution_count": 27,
     "metadata": {},
     "output_type": "execute_result"
    }
   ],
   "source": [
    "# Create new model using the same parameters\n",
    "new_model=XGBClassifier(learning_rate=0.05,n_estimators= 100)\n",
    "new_model.fit(x_train, y_train)\n",
    "y_pred_new = new_model.predict(x_test)\n",
    "accuracy_new = accuracy_score(y_test,y_pred_new)\n",
    "accuracy_new"
   ]
  },
  {
   "cell_type": "markdown",
   "id": "ec639b0d",
   "metadata": {},
   "source": [
    "#### Model fitting using xgboost"
   ]
  },
  {
   "cell_type": "code",
   "execution_count": 28,
   "id": "76a1545d",
   "metadata": {},
   "outputs": [],
   "source": [
    "#import xgboost as xgb\n",
    "from xgboost import XGBClassifier"
   ]
  },
  {
   "cell_type": "code",
   "execution_count": 29,
   "id": "6bcbc808",
   "metadata": {},
   "outputs": [
    {
     "data": {
      "text/plain": [
       "0.75"
      ]
     },
     "execution_count": 29,
     "metadata": {},
     "output_type": "execute_result"
    }
   ],
   "source": [
    "model = XGBClassifier(objective='binary:logistic')\n",
    "model.fit(x_train,y_train)\n",
    "# cheking training accuracy\n",
    "y_pred = model.predict(x_test)\n",
    "accuracy = accuracy_score(y_test,y_pred)\n",
    "accuracy"
   ]
  },
  {
   "cell_type": "markdown",
   "id": "457145f6",
   "metadata": {},
   "source": [
    "#### xgboost gives best accuracy i.e 75% than others on same data "
   ]
  },
  {
   "cell_type": "markdown",
   "id": "afc76cbb",
   "metadata": {},
   "source": [
    "### Hyper parameter tuning :"
   ]
  },
  {
   "cell_type": "code",
   "execution_count": 31,
   "id": "1774852a",
   "metadata": {},
   "outputs": [
    {
     "name": "stdout",
     "output_type": "stream",
     "text": [
      "Fitting 5 folds for each of 80 candidates, totalling 400 fits\n",
      "[CV 1/5] END learning_rate=1, max_depth=3, n_estimators=10;, score=0.802 total time=   0.0s\n",
      "[CV 2/5] END learning_rate=1, max_depth=3, n_estimators=10;, score=0.826 total time=   0.0s\n",
      "[CV 3/5] END learning_rate=1, max_depth=3, n_estimators=10;, score=0.783 total time=   0.0s\n",
      "[CV 4/5] END learning_rate=1, max_depth=3, n_estimators=10;, score=0.687 total time=   0.0s\n",
      "[CV 5/5] END learning_rate=1, max_depth=3, n_estimators=10;, score=0.757 total time=   0.0s\n",
      "[CV 1/5] END learning_rate=1, max_depth=3, n_estimators=50;, score=0.767 total time=   0.0s\n",
      "[CV 2/5] END learning_rate=1, max_depth=3, n_estimators=50;, score=0.739 total time=   0.0s\n",
      "[CV 3/5] END learning_rate=1, max_depth=3, n_estimators=50;, score=0.757 total time=   0.0s\n",
      "[CV 4/5] END learning_rate=1, max_depth=3, n_estimators=50;, score=0.730 total time=   0.0s\n",
      "[CV 5/5] END learning_rate=1, max_depth=3, n_estimators=50;, score=0.730 total time=   0.0s\n",
      "[CV 1/5] END learning_rate=1, max_depth=3, n_estimators=100;, score=0.784 total time=   0.0s\n",
      "[CV 2/5] END learning_rate=1, max_depth=3, n_estimators=100;, score=0.748 total time=   0.0s\n",
      "[CV 3/5] END learning_rate=1, max_depth=3, n_estimators=100;, score=0.765 total time=   0.0s\n",
      "[CV 4/5] END learning_rate=1, max_depth=3, n_estimators=100;, score=0.713 total time=   0.0s\n",
      "[CV 5/5] END learning_rate=1, max_depth=3, n_estimators=100;, score=0.739 total time=   0.0s\n",
      "[CV 1/5] END learning_rate=1, max_depth=3, n_estimators=200;, score=0.784 total time=   0.0s\n",
      "[CV 2/5] END learning_rate=1, max_depth=3, n_estimators=200;, score=0.730 total time=   0.0s\n",
      "[CV 3/5] END learning_rate=1, max_depth=3, n_estimators=200;, score=0.748 total time=   0.0s\n",
      "[CV 4/5] END learning_rate=1, max_depth=3, n_estimators=200;, score=0.730 total time=   0.0s\n",
      "[CV 5/5] END learning_rate=1, max_depth=3, n_estimators=200;, score=0.730 total time=   0.0s\n",
      "[CV 1/5] END learning_rate=1, max_depth=5, n_estimators=10;, score=0.759 total time=   0.0s\n",
      "[CV 2/5] END learning_rate=1, max_depth=5, n_estimators=10;, score=0.722 total time=   0.0s\n",
      "[CV 3/5] END learning_rate=1, max_depth=5, n_estimators=10;, score=0.739 total time=   0.0s\n",
      "[CV 4/5] END learning_rate=1, max_depth=5, n_estimators=10;, score=0.722 total time=   0.0s\n",
      "[CV 5/5] END learning_rate=1, max_depth=5, n_estimators=10;, score=0.765 total time=   0.0s\n",
      "[CV 1/5] END learning_rate=1, max_depth=5, n_estimators=50;, score=0.759 total time=   0.0s\n",
      "[CV 2/5] END learning_rate=1, max_depth=5, n_estimators=50;, score=0.730 total time=   0.0s\n",
      "[CV 3/5] END learning_rate=1, max_depth=5, n_estimators=50;, score=0.739 total time=   0.0s\n",
      "[CV 4/5] END learning_rate=1, max_depth=5, n_estimators=50;, score=0.696 total time=   0.0s\n",
      "[CV 5/5] END learning_rate=1, max_depth=5, n_estimators=50;, score=0.791 total time=   0.0s\n",
      "[CV 1/5] END learning_rate=1, max_depth=5, n_estimators=100;, score=0.776 total time=   0.0s\n",
      "[CV 2/5] END learning_rate=1, max_depth=5, n_estimators=100;, score=0.739 total time=   0.0s\n",
      "[CV 3/5] END learning_rate=1, max_depth=5, n_estimators=100;, score=0.713 total time=   0.0s\n",
      "[CV 4/5] END learning_rate=1, max_depth=5, n_estimators=100;, score=0.713 total time=   0.0s\n",
      "[CV 5/5] END learning_rate=1, max_depth=5, n_estimators=100;, score=0.783 total time=   0.0s\n",
      "[CV 1/5] END learning_rate=1, max_depth=5, n_estimators=200;, score=0.767 total time=   0.0s\n",
      "[CV 2/5] END learning_rate=1, max_depth=5, n_estimators=200;, score=0.739 total time=   0.0s\n",
      "[CV 3/5] END learning_rate=1, max_depth=5, n_estimators=200;, score=0.730 total time=   0.0s\n",
      "[CV 4/5] END learning_rate=1, max_depth=5, n_estimators=200;, score=0.713 total time=   0.1s\n",
      "[CV 5/5] END learning_rate=1, max_depth=5, n_estimators=200;, score=0.765 total time=   0.0s\n",
      "[CV 1/5] END learning_rate=1, max_depth=10, n_estimators=10;, score=0.802 total time=   0.0s\n",
      "[CV 2/5] END learning_rate=1, max_depth=10, n_estimators=10;, score=0.748 total time=   0.0s\n",
      "[CV 3/5] END learning_rate=1, max_depth=10, n_estimators=10;, score=0.765 total time=   0.0s\n",
      "[CV 4/5] END learning_rate=1, max_depth=10, n_estimators=10;, score=0.713 total time=   0.0s\n",
      "[CV 5/5] END learning_rate=1, max_depth=10, n_estimators=10;, score=0.757 total time=   0.0s\n",
      "[CV 1/5] END learning_rate=1, max_depth=10, n_estimators=50;, score=0.776 total time=   0.0s\n",
      "[CV 2/5] END learning_rate=1, max_depth=10, n_estimators=50;, score=0.765 total time=   0.0s\n",
      "[CV 3/5] END learning_rate=1, max_depth=10, n_estimators=50;, score=0.765 total time=   0.0s\n",
      "[CV 4/5] END learning_rate=1, max_depth=10, n_estimators=50;, score=0.652 total time=   0.0s\n",
      "[CV 5/5] END learning_rate=1, max_depth=10, n_estimators=50;, score=0.722 total time=   0.0s\n",
      "[CV 1/5] END learning_rate=1, max_depth=10, n_estimators=100;, score=0.767 total time=   0.0s\n",
      "[CV 2/5] END learning_rate=1, max_depth=10, n_estimators=100;, score=0.748 total time=   0.0s\n",
      "[CV 3/5] END learning_rate=1, max_depth=10, n_estimators=100;, score=0.765 total time=   0.0s\n",
      "[CV 4/5] END learning_rate=1, max_depth=10, n_estimators=100;, score=0.652 total time=   0.0s\n",
      "[CV 5/5] END learning_rate=1, max_depth=10, n_estimators=100;, score=0.739 total time=   0.0s\n",
      "[CV 1/5] END learning_rate=1, max_depth=10, n_estimators=200;, score=0.776 total time=   0.1s\n",
      "[CV 2/5] END learning_rate=1, max_depth=10, n_estimators=200;, score=0.748 total time=   0.2s\n",
      "[CV 3/5] END learning_rate=1, max_depth=10, n_estimators=200;, score=0.765 total time=   0.1s\n",
      "[CV 4/5] END learning_rate=1, max_depth=10, n_estimators=200;, score=0.670 total time=   0.1s\n",
      "[CV 5/5] END learning_rate=1, max_depth=10, n_estimators=200;, score=0.730 total time=   0.0s\n",
      "[CV 1/5] END learning_rate=1, max_depth=20, n_estimators=10;, score=0.759 total time=   0.0s\n",
      "[CV 2/5] END learning_rate=1, max_depth=20, n_estimators=10;, score=0.748 total time=   0.0s\n",
      "[CV 3/5] END learning_rate=1, max_depth=20, n_estimators=10;, score=0.730 total time=   0.0s\n",
      "[CV 4/5] END learning_rate=1, max_depth=20, n_estimators=10;, score=0.713 total time=   0.0s\n",
      "[CV 5/5] END learning_rate=1, max_depth=20, n_estimators=10;, score=0.739 total time=   0.0s\n",
      "[CV 1/5] END learning_rate=1, max_depth=20, n_estimators=50;, score=0.776 total time=   0.0s\n",
      "[CV 2/5] END learning_rate=1, max_depth=20, n_estimators=50;, score=0.765 total time=   0.0s\n",
      "[CV 3/5] END learning_rate=1, max_depth=20, n_estimators=50;, score=0.765 total time=   0.0s\n",
      "[CV 4/5] END learning_rate=1, max_depth=20, n_estimators=50;, score=0.652 total time=   0.0s\n",
      "[CV 5/5] END learning_rate=1, max_depth=20, n_estimators=50;, score=0.748 total time=   0.0s\n",
      "[CV 1/5] END learning_rate=1, max_depth=20, n_estimators=100;, score=0.784 total time=   0.0s\n",
      "[CV 2/5] END learning_rate=1, max_depth=20, n_estimators=100;, score=0.748 total time=   0.0s\n",
      "[CV 3/5] END learning_rate=1, max_depth=20, n_estimators=100;, score=0.748 total time=   0.0s\n",
      "[CV 4/5] END learning_rate=1, max_depth=20, n_estimators=100;, score=0.652 total time=   0.0s\n",
      "[CV 5/5] END learning_rate=1, max_depth=20, n_estimators=100;, score=0.722 total time=   0.0s\n",
      "[CV 1/5] END learning_rate=1, max_depth=20, n_estimators=200;, score=0.776 total time=   0.0s\n",
      "[CV 2/5] END learning_rate=1, max_depth=20, n_estimators=200;, score=0.748 total time=   0.0s\n",
      "[CV 3/5] END learning_rate=1, max_depth=20, n_estimators=200;, score=0.748 total time=   0.1s\n",
      "[CV 4/5] END learning_rate=1, max_depth=20, n_estimators=200;, score=0.670 total time=   0.1s\n",
      "[CV 5/5] END learning_rate=1, max_depth=20, n_estimators=200;, score=0.722 total time=   0.1s\n",
      "[CV 1/5] END learning_rate=0.5, max_depth=3, n_estimators=10;, score=0.759 total time=   0.0s\n",
      "[CV 2/5] END learning_rate=0.5, max_depth=3, n_estimators=10;, score=0.774 total time=   0.0s\n",
      "[CV 3/5] END learning_rate=0.5, max_depth=3, n_estimators=10;, score=0.765 total time=   0.0s\n",
      "[CV 4/5] END learning_rate=0.5, max_depth=3, n_estimators=10;, score=0.678 total time=   0.0s\n",
      "[CV 5/5] END learning_rate=0.5, max_depth=3, n_estimators=10;, score=0.774 total time=   0.0s\n",
      "[CV 1/5] END learning_rate=0.5, max_depth=3, n_estimators=50;, score=0.750 total time=   0.0s\n",
      "[CV 2/5] END learning_rate=0.5, max_depth=3, n_estimators=50;, score=0.739 total time=   0.0s\n",
      "[CV 3/5] END learning_rate=0.5, max_depth=3, n_estimators=50;, score=0.774 total time=   0.0s\n",
      "[CV 4/5] END learning_rate=0.5, max_depth=3, n_estimators=50;, score=0.722 total time=   0.0s\n",
      "[CV 5/5] END learning_rate=0.5, max_depth=3, n_estimators=50;, score=0.757 total time=   0.0s\n"
     ]
    },
    {
     "name": "stdout",
     "output_type": "stream",
     "text": [
      "[CV 1/5] END learning_rate=0.5, max_depth=3, n_estimators=100;, score=0.759 total time=   0.0s\n",
      "[CV 2/5] END learning_rate=0.5, max_depth=3, n_estimators=100;, score=0.748 total time=   0.0s\n",
      "[CV 3/5] END learning_rate=0.5, max_depth=3, n_estimators=100;, score=0.765 total time=   0.0s\n",
      "[CV 4/5] END learning_rate=0.5, max_depth=3, n_estimators=100;, score=0.696 total time=   0.0s\n",
      "[CV 5/5] END learning_rate=0.5, max_depth=3, n_estimators=100;, score=0.739 total time=   0.0s\n",
      "[CV 1/5] END learning_rate=0.5, max_depth=3, n_estimators=200;, score=0.767 total time=   0.0s\n",
      "[CV 2/5] END learning_rate=0.5, max_depth=3, n_estimators=200;, score=0.722 total time=   0.0s\n",
      "[CV 3/5] END learning_rate=0.5, max_depth=3, n_estimators=200;, score=0.730 total time=   0.0s\n",
      "[CV 4/5] END learning_rate=0.5, max_depth=3, n_estimators=200;, score=0.696 total time=   0.0s\n",
      "[CV 5/5] END learning_rate=0.5, max_depth=3, n_estimators=200;, score=0.748 total time=   0.0s\n",
      "[CV 1/5] END learning_rate=0.5, max_depth=5, n_estimators=10;, score=0.784 total time=   0.0s\n",
      "[CV 2/5] END learning_rate=0.5, max_depth=5, n_estimators=10;, score=0.748 total time=   0.0s\n",
      "[CV 3/5] END learning_rate=0.5, max_depth=5, n_estimators=10;, score=0.774 total time=   0.0s\n",
      "[CV 4/5] END learning_rate=0.5, max_depth=5, n_estimators=10;, score=0.696 total time=   0.0s\n",
      "[CV 5/5] END learning_rate=0.5, max_depth=5, n_estimators=10;, score=0.774 total time=   0.0s\n",
      "[CV 1/5] END learning_rate=0.5, max_depth=5, n_estimators=50;, score=0.759 total time=   0.0s\n",
      "[CV 2/5] END learning_rate=0.5, max_depth=5, n_estimators=50;, score=0.748 total time=   0.0s\n",
      "[CV 3/5] END learning_rate=0.5, max_depth=5, n_estimators=50;, score=0.757 total time=   0.0s\n",
      "[CV 4/5] END learning_rate=0.5, max_depth=5, n_estimators=50;, score=0.704 total time=   0.0s\n",
      "[CV 5/5] END learning_rate=0.5, max_depth=5, n_estimators=50;, score=0.774 total time=   0.0s\n",
      "[CV 1/5] END learning_rate=0.5, max_depth=5, n_estimators=100;, score=0.767 total time=   0.0s\n",
      "[CV 2/5] END learning_rate=0.5, max_depth=5, n_estimators=100;, score=0.730 total time=   0.0s\n",
      "[CV 3/5] END learning_rate=0.5, max_depth=5, n_estimators=100;, score=0.765 total time=   0.0s\n",
      "[CV 4/5] END learning_rate=0.5, max_depth=5, n_estimators=100;, score=0.730 total time=   0.0s\n",
      "[CV 5/5] END learning_rate=0.5, max_depth=5, n_estimators=100;, score=0.765 total time=   0.0s\n",
      "[CV 1/5] END learning_rate=0.5, max_depth=5, n_estimators=200;, score=0.759 total time=   0.1s\n",
      "[CV 2/5] END learning_rate=0.5, max_depth=5, n_estimators=200;, score=0.730 total time=   0.0s\n",
      "[CV 3/5] END learning_rate=0.5, max_depth=5, n_estimators=200;, score=0.748 total time=   0.1s\n",
      "[CV 4/5] END learning_rate=0.5, max_depth=5, n_estimators=200;, score=0.722 total time=   0.0s\n",
      "[CV 5/5] END learning_rate=0.5, max_depth=5, n_estimators=200;, score=0.739 total time=   0.0s\n",
      "[CV 1/5] END learning_rate=0.5, max_depth=10, n_estimators=10;, score=0.741 total time=   0.0s\n",
      "[CV 2/5] END learning_rate=0.5, max_depth=10, n_estimators=10;, score=0.748 total time=   0.0s\n",
      "[CV 3/5] END learning_rate=0.5, max_depth=10, n_estimators=10;, score=0.748 total time=   0.0s\n",
      "[CV 4/5] END learning_rate=0.5, max_depth=10, n_estimators=10;, score=0.713 total time=   0.0s\n",
      "[CV 5/5] END learning_rate=0.5, max_depth=10, n_estimators=10;, score=0.730 total time=   0.0s\n",
      "[CV 1/5] END learning_rate=0.5, max_depth=10, n_estimators=50;, score=0.750 total time=   0.0s\n",
      "[CV 2/5] END learning_rate=0.5, max_depth=10, n_estimators=50;, score=0.739 total time=   0.0s\n",
      "[CV 3/5] END learning_rate=0.5, max_depth=10, n_estimators=50;, score=0.757 total time=   0.0s\n",
      "[CV 4/5] END learning_rate=0.5, max_depth=10, n_estimators=50;, score=0.704 total time=   0.0s\n",
      "[CV 5/5] END learning_rate=0.5, max_depth=10, n_estimators=50;, score=0.722 total time=   0.0s\n",
      "[CV 1/5] END learning_rate=0.5, max_depth=10, n_estimators=100;, score=0.759 total time=   0.0s\n",
      "[CV 2/5] END learning_rate=0.5, max_depth=10, n_estimators=100;, score=0.748 total time=   0.0s\n",
      "[CV 3/5] END learning_rate=0.5, max_depth=10, n_estimators=100;, score=0.739 total time=   0.0s\n",
      "[CV 4/5] END learning_rate=0.5, max_depth=10, n_estimators=100;, score=0.687 total time=   0.0s\n",
      "[CV 5/5] END learning_rate=0.5, max_depth=10, n_estimators=100;, score=0.739 total time=   0.0s\n",
      "[CV 1/5] END learning_rate=0.5, max_depth=10, n_estimators=200;, score=0.741 total time=   0.1s\n",
      "[CV 2/5] END learning_rate=0.5, max_depth=10, n_estimators=200;, score=0.757 total time=   0.0s\n",
      "[CV 3/5] END learning_rate=0.5, max_depth=10, n_estimators=200;, score=0.739 total time=   0.1s\n",
      "[CV 4/5] END learning_rate=0.5, max_depth=10, n_estimators=200;, score=0.696 total time=   0.0s\n",
      "[CV 5/5] END learning_rate=0.5, max_depth=10, n_estimators=200;, score=0.748 total time=   0.1s\n",
      "[CV 1/5] END learning_rate=0.5, max_depth=20, n_estimators=10;, score=0.767 total time=   0.0s\n",
      "[CV 2/5] END learning_rate=0.5, max_depth=20, n_estimators=10;, score=0.765 total time=   0.0s\n",
      "[CV 3/5] END learning_rate=0.5, max_depth=20, n_estimators=10;, score=0.739 total time=   0.0s\n",
      "[CV 4/5] END learning_rate=0.5, max_depth=20, n_estimators=10;, score=0.704 total time=   0.0s\n",
      "[CV 5/5] END learning_rate=0.5, max_depth=20, n_estimators=10;, score=0.730 total time=   0.0s\n",
      "[CV 1/5] END learning_rate=0.5, max_depth=20, n_estimators=50;, score=0.784 total time=   0.0s\n",
      "[CV 2/5] END learning_rate=0.5, max_depth=20, n_estimators=50;, score=0.757 total time=   0.0s\n",
      "[CV 3/5] END learning_rate=0.5, max_depth=20, n_estimators=50;, score=0.722 total time=   0.0s\n",
      "[CV 4/5] END learning_rate=0.5, max_depth=20, n_estimators=50;, score=0.713 total time=   0.0s\n",
      "[CV 5/5] END learning_rate=0.5, max_depth=20, n_estimators=50;, score=0.730 total time=   0.0s\n",
      "[CV 1/5] END learning_rate=0.5, max_depth=20, n_estimators=100;, score=0.784 total time=   0.0s\n",
      "[CV 2/5] END learning_rate=0.5, max_depth=20, n_estimators=100;, score=0.765 total time=   0.0s\n",
      "[CV 3/5] END learning_rate=0.5, max_depth=20, n_estimators=100;, score=0.722 total time=   0.0s\n",
      "[CV 4/5] END learning_rate=0.5, max_depth=20, n_estimators=100;, score=0.713 total time=   0.0s\n",
      "[CV 5/5] END learning_rate=0.5, max_depth=20, n_estimators=100;, score=0.774 total time=   0.0s\n",
      "[CV 1/5] END learning_rate=0.5, max_depth=20, n_estimators=200;, score=0.784 total time=   0.1s\n",
      "[CV 2/5] END learning_rate=0.5, max_depth=20, n_estimators=200;, score=0.765 total time=   0.1s\n",
      "[CV 3/5] END learning_rate=0.5, max_depth=20, n_estimators=200;, score=0.722 total time=   0.0s\n",
      "[CV 4/5] END learning_rate=0.5, max_depth=20, n_estimators=200;, score=0.722 total time=   0.1s\n",
      "[CV 5/5] END learning_rate=0.5, max_depth=20, n_estimators=200;, score=0.757 total time=   0.1s\n",
      "[CV 1/5] END learning_rate=0.1, max_depth=3, n_estimators=10;, score=0.810 total time=   0.0s\n",
      "[CV 2/5] END learning_rate=0.1, max_depth=3, n_estimators=10;, score=0.757 total time=   0.0s\n",
      "[CV 3/5] END learning_rate=0.1, max_depth=3, n_estimators=10;, score=0.748 total time=   0.0s\n",
      "[CV 4/5] END learning_rate=0.1, max_depth=3, n_estimators=10;, score=0.722 total time=   0.0s\n",
      "[CV 5/5] END learning_rate=0.1, max_depth=3, n_estimators=10;, score=0.748 total time=   0.0s\n",
      "[CV 1/5] END learning_rate=0.1, max_depth=3, n_estimators=50;, score=0.802 total time=   0.0s\n",
      "[CV 2/5] END learning_rate=0.1, max_depth=3, n_estimators=50;, score=0.765 total time=   0.0s\n",
      "[CV 3/5] END learning_rate=0.1, max_depth=3, n_estimators=50;, score=0.774 total time=   0.0s\n",
      "[CV 4/5] END learning_rate=0.1, max_depth=3, n_estimators=50;, score=0.678 total time=   0.0s\n",
      "[CV 5/5] END learning_rate=0.1, max_depth=3, n_estimators=50;, score=0.774 total time=   0.0s\n",
      "[CV 1/5] END learning_rate=0.1, max_depth=3, n_estimators=100;, score=0.784 total time=   0.0s\n",
      "[CV 2/5] END learning_rate=0.1, max_depth=3, n_estimators=100;, score=0.748 total time=   0.0s\n",
      "[CV 3/5] END learning_rate=0.1, max_depth=3, n_estimators=100;, score=0.774 total time=   0.0s\n",
      "[CV 4/5] END learning_rate=0.1, max_depth=3, n_estimators=100;, score=0.670 total time=   0.0s\n",
      "[CV 5/5] END learning_rate=0.1, max_depth=3, n_estimators=100;, score=0.757 total time=   0.0s\n",
      "[CV 1/5] END learning_rate=0.1, max_depth=3, n_estimators=200;, score=0.767 total time=   0.0s\n",
      "[CV 2/5] END learning_rate=0.1, max_depth=3, n_estimators=200;, score=0.765 total time=   0.1s\n",
      "[CV 3/5] END learning_rate=0.1, max_depth=3, n_estimators=200;, score=0.800 total time=   0.1s\n"
     ]
    },
    {
     "name": "stdout",
     "output_type": "stream",
     "text": [
      "[CV 4/5] END learning_rate=0.1, max_depth=3, n_estimators=200;, score=0.696 total time=   0.1s\n",
      "[CV 5/5] END learning_rate=0.1, max_depth=3, n_estimators=200;, score=0.774 total time=   0.0s\n",
      "[CV 1/5] END learning_rate=0.1, max_depth=5, n_estimators=10;, score=0.784 total time=   0.0s\n",
      "[CV 2/5] END learning_rate=0.1, max_depth=5, n_estimators=10;, score=0.748 total time=   0.0s\n",
      "[CV 3/5] END learning_rate=0.1, max_depth=5, n_estimators=10;, score=0.774 total time=   0.0s\n",
      "[CV 4/5] END learning_rate=0.1, max_depth=5, n_estimators=10;, score=0.687 total time=   0.0s\n",
      "[CV 5/5] END learning_rate=0.1, max_depth=5, n_estimators=10;, score=0.713 total time=   0.0s\n",
      "[CV 1/5] END learning_rate=0.1, max_depth=5, n_estimators=50;, score=0.802 total time=   0.0s\n",
      "[CV 2/5] END learning_rate=0.1, max_depth=5, n_estimators=50;, score=0.730 total time=   0.0s\n",
      "[CV 3/5] END learning_rate=0.1, max_depth=5, n_estimators=50;, score=0.774 total time=   0.0s\n",
      "[CV 4/5] END learning_rate=0.1, max_depth=5, n_estimators=50;, score=0.687 total time=   0.0s\n",
      "[CV 5/5] END learning_rate=0.1, max_depth=5, n_estimators=50;, score=0.757 total time=   0.0s\n",
      "[CV 1/5] END learning_rate=0.1, max_depth=5, n_estimators=100;, score=0.776 total time=   0.0s\n",
      "[CV 2/5] END learning_rate=0.1, max_depth=5, n_estimators=100;, score=0.713 total time=   0.0s\n",
      "[CV 3/5] END learning_rate=0.1, max_depth=5, n_estimators=100;, score=0.774 total time=   0.0s\n",
      "[CV 4/5] END learning_rate=0.1, max_depth=5, n_estimators=100;, score=0.696 total time=   0.0s\n",
      "[CV 5/5] END learning_rate=0.1, max_depth=5, n_estimators=100;, score=0.757 total time=   0.0s\n",
      "[CV 1/5] END learning_rate=0.1, max_depth=5, n_estimators=200;, score=0.759 total time=   0.1s\n",
      "[CV 2/5] END learning_rate=0.1, max_depth=5, n_estimators=200;, score=0.739 total time=   0.1s\n",
      "[CV 3/5] END learning_rate=0.1, max_depth=5, n_estimators=200;, score=0.783 total time=   0.1s\n",
      "[CV 4/5] END learning_rate=0.1, max_depth=5, n_estimators=200;, score=0.704 total time=   0.1s\n",
      "[CV 5/5] END learning_rate=0.1, max_depth=5, n_estimators=200;, score=0.774 total time=   0.1s\n",
      "[CV 1/5] END learning_rate=0.1, max_depth=10, n_estimators=10;, score=0.767 total time=   0.0s\n",
      "[CV 2/5] END learning_rate=0.1, max_depth=10, n_estimators=10;, score=0.722 total time=   0.0s\n",
      "[CV 3/5] END learning_rate=0.1, max_depth=10, n_estimators=10;, score=0.783 total time=   0.0s\n",
      "[CV 4/5] END learning_rate=0.1, max_depth=10, n_estimators=10;, score=0.678 total time=   0.0s\n",
      "[CV 5/5] END learning_rate=0.1, max_depth=10, n_estimators=10;, score=0.687 total time=   0.0s\n",
      "[CV 1/5] END learning_rate=0.1, max_depth=10, n_estimators=50;, score=0.750 total time=   0.0s\n",
      "[CV 2/5] END learning_rate=0.1, max_depth=10, n_estimators=50;, score=0.739 total time=   0.0s\n",
      "[CV 3/5] END learning_rate=0.1, max_depth=10, n_estimators=50;, score=0.774 total time=   0.0s\n",
      "[CV 4/5] END learning_rate=0.1, max_depth=10, n_estimators=50;, score=0.713 total time=   0.0s\n",
      "[CV 5/5] END learning_rate=0.1, max_depth=10, n_estimators=50;, score=0.739 total time=   0.0s\n",
      "[CV 1/5] END learning_rate=0.1, max_depth=10, n_estimators=100;, score=0.767 total time=   0.0s\n",
      "[CV 2/5] END learning_rate=0.1, max_depth=10, n_estimators=100;, score=0.739 total time=   0.0s\n",
      "[CV 3/5] END learning_rate=0.1, max_depth=10, n_estimators=100;, score=0.783 total time=   0.0s\n",
      "[CV 4/5] END learning_rate=0.1, max_depth=10, n_estimators=100;, score=0.704 total time=   0.0s\n",
      "[CV 5/5] END learning_rate=0.1, max_depth=10, n_estimators=100;, score=0.730 total time=   0.0s\n",
      "[CV 1/5] END learning_rate=0.1, max_depth=10, n_estimators=200;, score=0.759 total time=   0.1s\n",
      "[CV 2/5] END learning_rate=0.1, max_depth=10, n_estimators=200;, score=0.739 total time=   0.1s\n",
      "[CV 3/5] END learning_rate=0.1, max_depth=10, n_estimators=200;, score=0.774 total time=   0.1s\n",
      "[CV 4/5] END learning_rate=0.1, max_depth=10, n_estimators=200;, score=0.722 total time=   0.1s\n",
      "[CV 5/5] END learning_rate=0.1, max_depth=10, n_estimators=200;, score=0.765 total time=   0.1s\n",
      "[CV 1/5] END learning_rate=0.1, max_depth=20, n_estimators=10;, score=0.776 total time=   0.0s\n",
      "[CV 2/5] END learning_rate=0.1, max_depth=20, n_estimators=10;, score=0.713 total time=   0.0s\n",
      "[CV 3/5] END learning_rate=0.1, max_depth=20, n_estimators=10;, score=0.783 total time=   0.0s\n",
      "[CV 4/5] END learning_rate=0.1, max_depth=20, n_estimators=10;, score=0.696 total time=   0.0s\n",
      "[CV 5/5] END learning_rate=0.1, max_depth=20, n_estimators=10;, score=0.704 total time=   0.0s\n",
      "[CV 1/5] END learning_rate=0.1, max_depth=20, n_estimators=50;, score=0.767 total time=   0.0s\n",
      "[CV 2/5] END learning_rate=0.1, max_depth=20, n_estimators=50;, score=0.748 total time=   0.0s\n",
      "[CV 3/5] END learning_rate=0.1, max_depth=20, n_estimators=50;, score=0.791 total time=   0.0s\n",
      "[CV 4/5] END learning_rate=0.1, max_depth=20, n_estimators=50;, score=0.722 total time=   0.0s\n",
      "[CV 5/5] END learning_rate=0.1, max_depth=20, n_estimators=50;, score=0.757 total time=   0.0s\n",
      "[CV 1/5] END learning_rate=0.1, max_depth=20, n_estimators=100;, score=0.784 total time=   0.0s\n",
      "[CV 2/5] END learning_rate=0.1, max_depth=20, n_estimators=100;, score=0.765 total time=   0.0s\n",
      "[CV 3/5] END learning_rate=0.1, max_depth=20, n_estimators=100;, score=0.783 total time=   0.0s\n",
      "[CV 4/5] END learning_rate=0.1, max_depth=20, n_estimators=100;, score=0.722 total time=   0.0s\n",
      "[CV 5/5] END learning_rate=0.1, max_depth=20, n_estimators=100;, score=0.748 total time=   0.0s\n",
      "[CV 1/5] END learning_rate=0.1, max_depth=20, n_estimators=200;, score=0.793 total time=   0.1s\n",
      "[CV 2/5] END learning_rate=0.1, max_depth=20, n_estimators=200;, score=0.739 total time=   0.1s\n",
      "[CV 3/5] END learning_rate=0.1, max_depth=20, n_estimators=200;, score=0.757 total time=   0.2s\n",
      "[CV 4/5] END learning_rate=0.1, max_depth=20, n_estimators=200;, score=0.722 total time=   0.1s\n",
      "[CV 5/5] END learning_rate=0.1, max_depth=20, n_estimators=200;, score=0.757 total time=   0.1s\n",
      "[CV 1/5] END learning_rate=0.01, max_depth=3, n_estimators=10;, score=0.750 total time=   0.0s\n",
      "[CV 2/5] END learning_rate=0.01, max_depth=3, n_estimators=10;, score=0.765 total time=   0.0s\n",
      "[CV 3/5] END learning_rate=0.01, max_depth=3, n_estimators=10;, score=0.739 total time=   0.0s\n",
      "[CV 4/5] END learning_rate=0.01, max_depth=3, n_estimators=10;, score=0.713 total time=   0.0s\n",
      "[CV 5/5] END learning_rate=0.01, max_depth=3, n_estimators=10;, score=0.765 total time=   0.0s\n",
      "[CV 1/5] END learning_rate=0.01, max_depth=3, n_estimators=50;, score=0.750 total time=   0.0s\n",
      "[CV 2/5] END learning_rate=0.01, max_depth=3, n_estimators=50;, score=0.765 total time=   0.0s\n",
      "[CV 3/5] END learning_rate=0.01, max_depth=3, n_estimators=50;, score=0.757 total time=   0.0s\n",
      "[CV 4/5] END learning_rate=0.01, max_depth=3, n_estimators=50;, score=0.722 total time=   0.0s\n",
      "[CV 5/5] END learning_rate=0.01, max_depth=3, n_estimators=50;, score=0.757 total time=   0.0s\n",
      "[CV 1/5] END learning_rate=0.01, max_depth=3, n_estimators=100;, score=0.810 total time=   0.0s\n",
      "[CV 2/5] END learning_rate=0.01, max_depth=3, n_estimators=100;, score=0.748 total time=   0.0s\n",
      "[CV 3/5] END learning_rate=0.01, max_depth=3, n_estimators=100;, score=0.757 total time=   0.0s\n",
      "[CV 4/5] END learning_rate=0.01, max_depth=3, n_estimators=100;, score=0.704 total time=   0.0s\n",
      "[CV 5/5] END learning_rate=0.01, max_depth=3, n_estimators=100;, score=0.739 total time=   0.0s\n",
      "[CV 1/5] END learning_rate=0.01, max_depth=3, n_estimators=200;, score=0.776 total time=   0.1s\n",
      "[CV 2/5] END learning_rate=0.01, max_depth=3, n_estimators=200;, score=0.774 total time=   0.1s\n",
      "[CV 3/5] END learning_rate=0.01, max_depth=3, n_estimators=200;, score=0.765 total time=   0.0s\n",
      "[CV 4/5] END learning_rate=0.01, max_depth=3, n_estimators=200;, score=0.704 total time=   0.0s\n",
      "[CV 5/5] END learning_rate=0.01, max_depth=3, n_estimators=200;, score=0.774 total time=   0.0s\n",
      "[CV 1/5] END learning_rate=0.01, max_depth=5, n_estimators=10;, score=0.776 total time=   0.0s\n",
      "[CV 2/5] END learning_rate=0.01, max_depth=5, n_estimators=10;, score=0.757 total time=   0.0s\n",
      "[CV 3/5] END learning_rate=0.01, max_depth=5, n_estimators=10;, score=0.774 total time=   0.0s\n",
      "[CV 4/5] END learning_rate=0.01, max_depth=5, n_estimators=10;, score=0.696 total time=   0.0s\n",
      "[CV 5/5] END learning_rate=0.01, max_depth=5, n_estimators=10;, score=0.713 total time=   0.0s\n",
      "[CV 1/5] END learning_rate=0.01, max_depth=5, n_estimators=50;, score=0.776 total time=   0.0s\n"
     ]
    },
    {
     "name": "stdout",
     "output_type": "stream",
     "text": [
      "[CV 2/5] END learning_rate=0.01, max_depth=5, n_estimators=50;, score=0.765 total time=   0.0s\n",
      "[CV 3/5] END learning_rate=0.01, max_depth=5, n_estimators=50;, score=0.783 total time=   0.0s\n",
      "[CV 4/5] END learning_rate=0.01, max_depth=5, n_estimators=50;, score=0.696 total time=   0.0s\n",
      "[CV 5/5] END learning_rate=0.01, max_depth=5, n_estimators=50;, score=0.722 total time=   0.0s\n",
      "[CV 1/5] END learning_rate=0.01, max_depth=5, n_estimators=100;, score=0.767 total time=   0.0s\n",
      "[CV 2/5] END learning_rate=0.01, max_depth=5, n_estimators=100;, score=0.739 total time=   0.0s\n",
      "[CV 3/5] END learning_rate=0.01, max_depth=5, n_estimators=100;, score=0.783 total time=   0.0s\n",
      "[CV 4/5] END learning_rate=0.01, max_depth=5, n_estimators=100;, score=0.704 total time=   0.0s\n",
      "[CV 5/5] END learning_rate=0.01, max_depth=5, n_estimators=100;, score=0.748 total time=   0.0s\n",
      "[CV 1/5] END learning_rate=0.01, max_depth=5, n_estimators=200;, score=0.784 total time=   0.1s\n",
      "[CV 2/5] END learning_rate=0.01, max_depth=5, n_estimators=200;, score=0.739 total time=   0.1s\n",
      "[CV 3/5] END learning_rate=0.01, max_depth=5, n_estimators=200;, score=0.791 total time=   0.1s\n",
      "[CV 4/5] END learning_rate=0.01, max_depth=5, n_estimators=200;, score=0.696 total time=   0.1s\n",
      "[CV 5/5] END learning_rate=0.01, max_depth=5, n_estimators=200;, score=0.748 total time=   0.1s\n",
      "[CV 1/5] END learning_rate=0.01, max_depth=10, n_estimators=10;, score=0.776 total time=   0.0s\n",
      "[CV 2/5] END learning_rate=0.01, max_depth=10, n_estimators=10;, score=0.774 total time=   0.0s\n",
      "[CV 3/5] END learning_rate=0.01, max_depth=10, n_estimators=10;, score=0.774 total time=   0.0s\n",
      "[CV 4/5] END learning_rate=0.01, max_depth=10, n_estimators=10;, score=0.696 total time=   0.0s\n",
      "[CV 5/5] END learning_rate=0.01, max_depth=10, n_estimators=10;, score=0.678 total time=   0.0s\n",
      "[CV 1/5] END learning_rate=0.01, max_depth=10, n_estimators=50;, score=0.759 total time=   0.0s\n",
      "[CV 2/5] END learning_rate=0.01, max_depth=10, n_estimators=50;, score=0.739 total time=   0.0s\n",
      "[CV 3/5] END learning_rate=0.01, max_depth=10, n_estimators=50;, score=0.774 total time=   0.0s\n",
      "[CV 4/5] END learning_rate=0.01, max_depth=10, n_estimators=50;, score=0.687 total time=   0.0s\n",
      "[CV 5/5] END learning_rate=0.01, max_depth=10, n_estimators=50;, score=0.704 total time=   0.0s\n",
      "[CV 1/5] END learning_rate=0.01, max_depth=10, n_estimators=100;, score=0.776 total time=   0.0s\n",
      "[CV 2/5] END learning_rate=0.01, max_depth=10, n_estimators=100;, score=0.739 total time=   0.0s\n",
      "[CV 3/5] END learning_rate=0.01, max_depth=10, n_estimators=100;, score=0.783 total time=   0.0s\n",
      "[CV 4/5] END learning_rate=0.01, max_depth=10, n_estimators=100;, score=0.687 total time=   0.0s\n",
      "[CV 5/5] END learning_rate=0.01, max_depth=10, n_estimators=100;, score=0.730 total time=   0.0s\n",
      "[CV 1/5] END learning_rate=0.01, max_depth=10, n_estimators=200;, score=0.750 total time=   0.1s\n",
      "[CV 2/5] END learning_rate=0.01, max_depth=10, n_estimators=200;, score=0.730 total time=   0.1s\n",
      "[CV 3/5] END learning_rate=0.01, max_depth=10, n_estimators=200;, score=0.817 total time=   0.1s\n",
      "[CV 4/5] END learning_rate=0.01, max_depth=10, n_estimators=200;, score=0.704 total time=   0.1s\n",
      "[CV 5/5] END learning_rate=0.01, max_depth=10, n_estimators=200;, score=0.748 total time=   0.1s\n",
      "[CV 1/5] END learning_rate=0.01, max_depth=20, n_estimators=10;, score=0.767 total time=   0.0s\n",
      "[CV 2/5] END learning_rate=0.01, max_depth=20, n_estimators=10;, score=0.774 total time=   0.0s\n",
      "[CV 3/5] END learning_rate=0.01, max_depth=20, n_estimators=10;, score=0.774 total time=   0.0s\n",
      "[CV 4/5] END learning_rate=0.01, max_depth=20, n_estimators=10;, score=0.696 total time=   0.0s\n",
      "[CV 5/5] END learning_rate=0.01, max_depth=20, n_estimators=10;, score=0.678 total time=   0.0s\n",
      "[CV 1/5] END learning_rate=0.01, max_depth=20, n_estimators=50;, score=0.767 total time=   0.0s\n",
      "[CV 2/5] END learning_rate=0.01, max_depth=20, n_estimators=50;, score=0.739 total time=   0.0s\n",
      "[CV 3/5] END learning_rate=0.01, max_depth=20, n_estimators=50;, score=0.774 total time=   0.0s\n",
      "[CV 4/5] END learning_rate=0.01, max_depth=20, n_estimators=50;, score=0.687 total time=   0.0s\n",
      "[CV 5/5] END learning_rate=0.01, max_depth=20, n_estimators=50;, score=0.704 total time=   0.0s\n",
      "[CV 1/5] END learning_rate=0.01, max_depth=20, n_estimators=100;, score=0.767 total time=   0.0s\n",
      "[CV 2/5] END learning_rate=0.01, max_depth=20, n_estimators=100;, score=0.739 total time=   0.0s\n",
      "[CV 3/5] END learning_rate=0.01, max_depth=20, n_estimators=100;, score=0.774 total time=   0.0s\n",
      "[CV 4/5] END learning_rate=0.01, max_depth=20, n_estimators=100;, score=0.687 total time=   0.0s\n",
      "[CV 5/5] END learning_rate=0.01, max_depth=20, n_estimators=100;, score=0.730 total time=   0.0s\n",
      "[CV 1/5] END learning_rate=0.01, max_depth=20, n_estimators=200;, score=0.741 total time=   0.2s\n",
      "[CV 2/5] END learning_rate=0.01, max_depth=20, n_estimators=200;, score=0.722 total time=   0.2s\n",
      "[CV 3/5] END learning_rate=0.01, max_depth=20, n_estimators=200;, score=0.826 total time=   0.1s\n",
      "[CV 4/5] END learning_rate=0.01, max_depth=20, n_estimators=200;, score=0.704 total time=   0.1s\n",
      "[CV 5/5] END learning_rate=0.01, max_depth=20, n_estimators=200;, score=0.739 total time=   0.1s\n",
      "[CV 1/5] END learning_rate=0.001, max_depth=3, n_estimators=10;, score=0.750 total time=   0.0s\n",
      "[CV 2/5] END learning_rate=0.001, max_depth=3, n_estimators=10;, score=0.765 total time=   0.0s\n",
      "[CV 3/5] END learning_rate=0.001, max_depth=3, n_estimators=10;, score=0.739 total time=   0.0s\n",
      "[CV 4/5] END learning_rate=0.001, max_depth=3, n_estimators=10;, score=0.704 total time=   0.0s\n",
      "[CV 5/5] END learning_rate=0.001, max_depth=3, n_estimators=10;, score=0.748 total time=   0.0s\n",
      "[CV 1/5] END learning_rate=0.001, max_depth=3, n_estimators=50;, score=0.750 total time=   0.0s\n",
      "[CV 2/5] END learning_rate=0.001, max_depth=3, n_estimators=50;, score=0.765 total time=   0.0s\n",
      "[CV 3/5] END learning_rate=0.001, max_depth=3, n_estimators=50;, score=0.739 total time=   0.0s\n",
      "[CV 4/5] END learning_rate=0.001, max_depth=3, n_estimators=50;, score=0.704 total time=   0.0s\n",
      "[CV 5/5] END learning_rate=0.001, max_depth=3, n_estimators=50;, score=0.748 total time=   0.0s\n",
      "[CV 1/5] END learning_rate=0.001, max_depth=3, n_estimators=100;, score=0.750 total time=   0.0s\n",
      "[CV 2/5] END learning_rate=0.001, max_depth=3, n_estimators=100;, score=0.765 total time=   0.0s\n",
      "[CV 3/5] END learning_rate=0.001, max_depth=3, n_estimators=100;, score=0.739 total time=   0.0s\n",
      "[CV 4/5] END learning_rate=0.001, max_depth=3, n_estimators=100;, score=0.713 total time=   0.0s\n",
      "[CV 5/5] END learning_rate=0.001, max_depth=3, n_estimators=100;, score=0.765 total time=   0.0s\n",
      "[CV 1/5] END learning_rate=0.001, max_depth=3, n_estimators=200;, score=0.750 total time=   0.0s\n",
      "[CV 2/5] END learning_rate=0.001, max_depth=3, n_estimators=200;, score=0.765 total time=   0.0s\n",
      "[CV 3/5] END learning_rate=0.001, max_depth=3, n_estimators=200;, score=0.739 total time=   0.0s\n",
      "[CV 4/5] END learning_rate=0.001, max_depth=3, n_estimators=200;, score=0.713 total time=   0.0s\n",
      "[CV 5/5] END learning_rate=0.001, max_depth=3, n_estimators=200;, score=0.765 total time=   0.0s\n",
      "[CV 1/5] END learning_rate=0.001, max_depth=5, n_estimators=10;, score=0.741 total time=   0.0s\n",
      "[CV 2/5] END learning_rate=0.001, max_depth=5, n_estimators=10;, score=0.739 total time=   0.0s\n",
      "[CV 3/5] END learning_rate=0.001, max_depth=5, n_estimators=10;, score=0.704 total time=   0.0s\n",
      "[CV 4/5] END learning_rate=0.001, max_depth=5, n_estimators=10;, score=0.704 total time=   0.0s\n",
      "[CV 5/5] END learning_rate=0.001, max_depth=5, n_estimators=10;, score=0.713 total time=   0.0s\n",
      "[CV 1/5] END learning_rate=0.001, max_depth=5, n_estimators=50;, score=0.784 total time=   0.0s\n",
      "[CV 2/5] END learning_rate=0.001, max_depth=5, n_estimators=50;, score=0.748 total time=   0.0s\n",
      "[CV 3/5] END learning_rate=0.001, max_depth=5, n_estimators=50;, score=0.739 total time=   0.0s\n",
      "[CV 4/5] END learning_rate=0.001, max_depth=5, n_estimators=50;, score=0.704 total time=   0.0s\n",
      "[CV 5/5] END learning_rate=0.001, max_depth=5, n_estimators=50;, score=0.713 total time=   0.0s\n",
      "[CV 1/5] END learning_rate=0.001, max_depth=5, n_estimators=100;, score=0.759 total time=   0.0s\n",
      "[CV 2/5] END learning_rate=0.001, max_depth=5, n_estimators=100;, score=0.757 total time=   0.0s\n",
      "[CV 3/5] END learning_rate=0.001, max_depth=5, n_estimators=100;, score=0.765 total time=   0.0s\n",
      "[CV 4/5] END learning_rate=0.001, max_depth=5, n_estimators=100;, score=0.696 total time=   0.0s\n"
     ]
    },
    {
     "name": "stdout",
     "output_type": "stream",
     "text": [
      "[CV 5/5] END learning_rate=0.001, max_depth=5, n_estimators=100;, score=0.713 total time=   0.0s\n",
      "[CV 1/5] END learning_rate=0.001, max_depth=5, n_estimators=200;, score=0.741 total time=   0.1s\n",
      "[CV 2/5] END learning_rate=0.001, max_depth=5, n_estimators=200;, score=0.757 total time=   0.1s\n",
      "[CV 3/5] END learning_rate=0.001, max_depth=5, n_estimators=200;, score=0.783 total time=   0.1s\n",
      "[CV 4/5] END learning_rate=0.001, max_depth=5, n_estimators=200;, score=0.696 total time=   0.1s\n",
      "[CV 5/5] END learning_rate=0.001, max_depth=5, n_estimators=200;, score=0.739 total time=   0.1s\n",
      "[CV 1/5] END learning_rate=0.001, max_depth=10, n_estimators=10;, score=0.759 total time=   0.0s\n",
      "[CV 2/5] END learning_rate=0.001, max_depth=10, n_estimators=10;, score=0.748 total time=   0.0s\n",
      "[CV 3/5] END learning_rate=0.001, max_depth=10, n_estimators=10;, score=0.713 total time=   0.0s\n",
      "[CV 4/5] END learning_rate=0.001, max_depth=10, n_estimators=10;, score=0.670 total time=   0.0s\n",
      "[CV 5/5] END learning_rate=0.001, max_depth=10, n_estimators=10;, score=0.678 total time=   0.0s\n",
      "[CV 1/5] END learning_rate=0.001, max_depth=10, n_estimators=50;, score=0.759 total time=   0.0s\n",
      "[CV 2/5] END learning_rate=0.001, max_depth=10, n_estimators=50;, score=0.757 total time=   0.0s\n",
      "[CV 3/5] END learning_rate=0.001, max_depth=10, n_estimators=50;, score=0.730 total time=   0.0s\n",
      "[CV 4/5] END learning_rate=0.001, max_depth=10, n_estimators=50;, score=0.670 total time=   0.0s\n",
      "[CV 5/5] END learning_rate=0.001, max_depth=10, n_estimators=50;, score=0.678 total time=   0.0s\n",
      "[CV 1/5] END learning_rate=0.001, max_depth=10, n_estimators=100;, score=0.776 total time=   0.0s\n",
      "[CV 2/5] END learning_rate=0.001, max_depth=10, n_estimators=100;, score=0.765 total time=   0.0s\n",
      "[CV 3/5] END learning_rate=0.001, max_depth=10, n_estimators=100;, score=0.739 total time=   0.0s\n",
      "[CV 4/5] END learning_rate=0.001, max_depth=10, n_estimators=100;, score=0.687 total time=   0.0s\n",
      "[CV 5/5] END learning_rate=0.001, max_depth=10, n_estimators=100;, score=0.678 total time=   0.0s\n",
      "[CV 1/5] END learning_rate=0.001, max_depth=10, n_estimators=200;, score=0.767 total time=   0.1s\n",
      "[CV 2/5] END learning_rate=0.001, max_depth=10, n_estimators=200;, score=0.774 total time=   0.1s\n",
      "[CV 3/5] END learning_rate=0.001, max_depth=10, n_estimators=200;, score=0.757 total time=   0.1s\n",
      "[CV 4/5] END learning_rate=0.001, max_depth=10, n_estimators=200;, score=0.670 total time=   0.1s\n",
      "[CV 5/5] END learning_rate=0.001, max_depth=10, n_estimators=200;, score=0.687 total time=   0.1s\n",
      "[CV 1/5] END learning_rate=0.001, max_depth=20, n_estimators=10;, score=0.767 total time=   0.0s\n",
      "[CV 2/5] END learning_rate=0.001, max_depth=20, n_estimators=10;, score=0.748 total time=   0.0s\n",
      "[CV 3/5] END learning_rate=0.001, max_depth=20, n_estimators=10;, score=0.713 total time=   0.0s\n",
      "[CV 4/5] END learning_rate=0.001, max_depth=20, n_estimators=10;, score=0.670 total time=   0.0s\n",
      "[CV 5/5] END learning_rate=0.001, max_depth=20, n_estimators=10;, score=0.678 total time=   0.0s\n",
      "[CV 1/5] END learning_rate=0.001, max_depth=20, n_estimators=50;, score=0.759 total time=   0.0s\n",
      "[CV 2/5] END learning_rate=0.001, max_depth=20, n_estimators=50;, score=0.757 total time=   0.0s\n",
      "[CV 3/5] END learning_rate=0.001, max_depth=20, n_estimators=50;, score=0.730 total time=   0.0s\n",
      "[CV 4/5] END learning_rate=0.001, max_depth=20, n_estimators=50;, score=0.670 total time=   0.0s\n",
      "[CV 5/5] END learning_rate=0.001, max_depth=20, n_estimators=50;, score=0.678 total time=   0.0s\n",
      "[CV 1/5] END learning_rate=0.001, max_depth=20, n_estimators=100;, score=0.776 total time=   0.0s\n",
      "[CV 2/5] END learning_rate=0.001, max_depth=20, n_estimators=100;, score=0.765 total time=   0.0s\n",
      "[CV 3/5] END learning_rate=0.001, max_depth=20, n_estimators=100;, score=0.739 total time=   0.0s\n",
      "[CV 4/5] END learning_rate=0.001, max_depth=20, n_estimators=100;, score=0.687 total time=   0.0s\n",
      "[CV 5/5] END learning_rate=0.001, max_depth=20, n_estimators=100;, score=0.678 total time=   0.0s\n",
      "[CV 1/5] END learning_rate=0.001, max_depth=20, n_estimators=200;, score=0.759 total time=   0.1s\n",
      "[CV 2/5] END learning_rate=0.001, max_depth=20, n_estimators=200;, score=0.774 total time=   0.1s\n",
      "[CV 3/5] END learning_rate=0.001, max_depth=20, n_estimators=200;, score=0.757 total time=   0.1s\n",
      "[CV 4/5] END learning_rate=0.001, max_depth=20, n_estimators=200;, score=0.670 total time=   0.2s\n",
      "[CV 5/5] END learning_rate=0.001, max_depth=20, n_estimators=200;, score=0.696 total time=   0.2s\n"
     ]
    },
    {
     "data": {
      "text/plain": [
       "GridSearchCV(estimator=XGBClassifier(base_score=None, booster=None,\n",
       "                                     callbacks=None, colsample_bylevel=None,\n",
       "                                     colsample_bynode=None,\n",
       "                                     colsample_bytree=None,\n",
       "                                     early_stopping_rounds=None,\n",
       "                                     enable_categorical=False, eval_metric=None,\n",
       "                                     gamma=None, gpu_id=None, grow_policy=None,\n",
       "                                     importance_type=None,\n",
       "                                     interaction_constraints=None,\n",
       "                                     learning_rate=None, max_bin=None,\n",
       "                                     max_cat_to_...,\n",
       "                                     max_delta_step=None, max_depth=None,\n",
       "                                     max_leaves=None, min_child_weight=None,\n",
       "                                     missing=nan, monotone_constraints=None,\n",
       "                                     n_estimators=100, n_jobs=None,\n",
       "                                     num_parallel_tree=None, predictor=None,\n",
       "                                     random_state=None, reg_alpha=None,\n",
       "                                     reg_lambda=None, ...),\n",
       "             param_grid={'learning_rate': [1, 0.5, 0.1, 0.01, 0.001],\n",
       "                         'max_depth': [3, 5, 10, 20],\n",
       "                         'n_estimators': [10, 50, 100, 200]},\n",
       "             verbose=3)"
      ]
     },
     "execution_count": 31,
     "metadata": {},
     "output_type": "execute_result"
    }
   ],
   "source": [
    "param_grid={\n",
    "   \n",
    "    'learning_rate':[1,0.5,0.1,0.01,0.001],\n",
    "    'max_depth': [3,5,10,20],\n",
    "    'n_estimators':[10,50,100,200]\n",
    "    \n",
    "}  ## This grid takes all possible combinations of its parameters learning_rate,max_depth and n estimators like ((1,3,10) ,(1,5,50) and so on )  \n",
    "grid= GridSearchCV(XGBClassifier(objective='binary:logistic'),param_grid, verbose=3)\n",
    "grid.fit(x_train,y_train)"
   ]
  },
  {
   "cell_type": "code",
   "execution_count": 32,
   "id": "f89abfb6",
   "metadata": {},
   "outputs": [
    {
     "data": {
      "text/plain": [
       "{'learning_rate': 1, 'max_depth': 3, 'n_estimators': 10}"
      ]
     },
     "execution_count": 32,
     "metadata": {},
     "output_type": "execute_result"
    }
   ],
   "source": [
    "# To  find the parameters giving maximum accuracy\n",
    "grid.best_params_"
   ]
  },
  {
   "cell_type": "code",
   "execution_count": 33,
   "id": "71e05294",
   "metadata": {},
   "outputs": [],
   "source": [
    "x_train,x_test,y_train,y_test=train_test_split(x,y,random_state=1) # default : 0.25"
   ]
  },
  {
   "cell_type": "code",
   "execution_count": 34,
   "id": "49d4a8dc",
   "metadata": {},
   "outputs": [
    {
     "data": {
      "text/plain": [
       "0.78125"
      ]
     },
     "execution_count": 34,
     "metadata": {},
     "output_type": "execute_result"
    }
   ],
   "source": [
    "# Create new model using the same parameters\n",
    "new_model=XGBClassifier(learning_rate= 1, max_depth= 3, n_estimators= 10)\n",
    "new_model.fit(x_train, y_train)\n",
    "y_pred_new = new_model.predict(x_test)\n",
    "accuracy_new = accuracy_score(y_test,y_pred_new)\n",
    "accuracy_new"
   ]
  },
  {
   "cell_type": "markdown",
   "id": "ba0bf9d8",
   "metadata": {},
   "source": [
    "### this way we can increase the accuracy of our model "
   ]
  },
  {
   "cell_type": "code",
   "execution_count": null,
   "id": "338c0553",
   "metadata": {},
   "outputs": [],
   "source": []
  }
 ],
 "metadata": {
  "kernelspec": {
   "display_name": "Python 3 (ipykernel)",
   "language": "python",
   "name": "python3"
  },
  "language_info": {
   "codemirror_mode": {
    "name": "ipython",
    "version": 3
   },
   "file_extension": ".py",
   "mimetype": "text/x-python",
   "name": "python",
   "nbconvert_exporter": "python",
   "pygments_lexer": "ipython3",
   "version": "3.9.7"
  }
 },
 "nbformat": 4,
 "nbformat_minor": 5
}
