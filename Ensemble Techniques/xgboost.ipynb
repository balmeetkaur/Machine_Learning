{
 "cells": [
  {
   "cell_type": "markdown",
   "id": "938a45e1",
   "metadata": {},
   "source": [
    "### xgboost \n",
    "\n",
    "It is one of the leading algorithm that many data scientist use it because it perform better than other machine learning algorithm in two aspects \n",
    "\n",
    "\n",
    "1- Speed \n",
    "\n",
    "2- Performance \n",
    "\n",
    "\n",
    "why it is so ?\n",
    "\n",
    "speed :  It follows parallism approach and cache optimization\n",
    "performance- It has implicit regularization parameter and tree pruning threshold parameter which prevents it from overfitting "
   ]
  },
  {
   "cell_type": "markdown",
   "id": "1113e75e",
   "metadata": {},
   "source": [
    "So to check its two best aspects we compare the XGBoost with other Machine Learning algorithms\n"
   ]
  },
  {
   "cell_type": "markdown",
   "id": "6237ccb0",
   "metadata": {},
   "source": [
    "### Importing required libraries"
   ]
  },
  {
   "cell_type": "code",
   "execution_count": 1,
   "id": "d3f16e03",
   "metadata": {},
   "outputs": [],
   "source": [
    "import pandas as pd\n",
    "import numpy as np\n",
    "from xgboost import XGBClassifier  ## xgboost is not in sklearn library \n",
    "from sklearn.model_selection import train_test_split\n",
    "#import pickle\n",
    "from sklearn import datasets\n",
    "import time\n",
    "#from sklearn.ensemble import AdaBoostClassifier,GradientBoostingClassifier\n",
    "\n",
    "from sklearn.metrics import accuracy_score\n",
    "#from catboost import CatBoostClassifier ### to handle categorical data with out encoding them explicitely\n",
    "\n",
    "#from lightgbm import LBMClassifier\n"
   ]
  },
  {
   "cell_type": "markdown",
   "id": "1344739f",
   "metadata": {},
   "source": [
    "### Import required packages of models to compare their speed and performance with xgboost"
   ]
  },
  {
   "cell_type": "code",
   "execution_count": 55,
   "id": "7f4452b5",
   "metadata": {},
   "outputs": [],
   "source": [
    "from sklearn.linear_model import LogisticRegression\n",
    "from sklearn.neighbors import KNeighborsClassifier\n",
    "from sklearn.svm import SVC\n"
   ]
  },
  {
   "cell_type": "code",
   "execution_count": 3,
   "id": "87336f91",
   "metadata": {},
   "outputs": [],
   "source": [
    "#pip install xgboost"
   ]
  },
  {
   "cell_type": "code",
   "execution_count": 4,
   "id": "fe9d1a42",
   "metadata": {},
   "outputs": [],
   "source": [
    "#pip install catboost "
   ]
  },
  {
   "cell_type": "code",
   "execution_count": 5,
   "id": "f8aaf3e3",
   "metadata": {},
   "outputs": [],
   "source": [
    "#pip install Lightgbm"
   ]
  },
  {
   "cell_type": "code",
   "execution_count": 6,
   "id": "4f287743",
   "metadata": {},
   "outputs": [],
   "source": [
    "#pip install lightgbm"
   ]
  },
  {
   "cell_type": "markdown",
   "id": "40988ba4",
   "metadata": {},
   "source": [
    "### Loading  the Data Set"
   ]
  },
  {
   "cell_type": "code",
   "execution_count": 7,
   "id": "b446ce60",
   "metadata": {},
   "outputs": [
    {
     "data": {
      "text/html": [
       "<div>\n",
       "<style scoped>\n",
       "    .dataframe tbody tr th:only-of-type {\n",
       "        vertical-align: middle;\n",
       "    }\n",
       "\n",
       "    .dataframe tbody tr th {\n",
       "        vertical-align: top;\n",
       "    }\n",
       "\n",
       "    .dataframe thead th {\n",
       "        text-align: right;\n",
       "    }\n",
       "</style>\n",
       "<table border=\"1\" class=\"dataframe\">\n",
       "  <thead>\n",
       "    <tr style=\"text-align: right;\">\n",
       "      <th></th>\n",
       "      <th>Pregnancies</th>\n",
       "      <th>Glucose</th>\n",
       "      <th>BloodPressure</th>\n",
       "      <th>SkinThickness</th>\n",
       "      <th>Insulin</th>\n",
       "      <th>BMI</th>\n",
       "      <th>DiabetesPedigreeFunction</th>\n",
       "      <th>Age</th>\n",
       "      <th>Outcome</th>\n",
       "    </tr>\n",
       "  </thead>\n",
       "  <tbody>\n",
       "    <tr>\n",
       "      <th>0</th>\n",
       "      <td>6</td>\n",
       "      <td>148</td>\n",
       "      <td>72</td>\n",
       "      <td>35</td>\n",
       "      <td>0</td>\n",
       "      <td>33.6</td>\n",
       "      <td>0.627</td>\n",
       "      <td>50</td>\n",
       "      <td>1</td>\n",
       "    </tr>\n",
       "    <tr>\n",
       "      <th>1</th>\n",
       "      <td>1</td>\n",
       "      <td>85</td>\n",
       "      <td>66</td>\n",
       "      <td>29</td>\n",
       "      <td>0</td>\n",
       "      <td>26.6</td>\n",
       "      <td>0.351</td>\n",
       "      <td>31</td>\n",
       "      <td>0</td>\n",
       "    </tr>\n",
       "    <tr>\n",
       "      <th>2</th>\n",
       "      <td>8</td>\n",
       "      <td>183</td>\n",
       "      <td>64</td>\n",
       "      <td>0</td>\n",
       "      <td>0</td>\n",
       "      <td>23.3</td>\n",
       "      <td>0.672</td>\n",
       "      <td>32</td>\n",
       "      <td>1</td>\n",
       "    </tr>\n",
       "    <tr>\n",
       "      <th>3</th>\n",
       "      <td>1</td>\n",
       "      <td>89</td>\n",
       "      <td>66</td>\n",
       "      <td>23</td>\n",
       "      <td>94</td>\n",
       "      <td>28.1</td>\n",
       "      <td>0.167</td>\n",
       "      <td>21</td>\n",
       "      <td>0</td>\n",
       "    </tr>\n",
       "    <tr>\n",
       "      <th>4</th>\n",
       "      <td>0</td>\n",
       "      <td>137</td>\n",
       "      <td>40</td>\n",
       "      <td>35</td>\n",
       "      <td>168</td>\n",
       "      <td>43.1</td>\n",
       "      <td>2.288</td>\n",
       "      <td>33</td>\n",
       "      <td>1</td>\n",
       "    </tr>\n",
       "    <tr>\n",
       "      <th>...</th>\n",
       "      <td>...</td>\n",
       "      <td>...</td>\n",
       "      <td>...</td>\n",
       "      <td>...</td>\n",
       "      <td>...</td>\n",
       "      <td>...</td>\n",
       "      <td>...</td>\n",
       "      <td>...</td>\n",
       "      <td>...</td>\n",
       "    </tr>\n",
       "    <tr>\n",
       "      <th>763</th>\n",
       "      <td>10</td>\n",
       "      <td>101</td>\n",
       "      <td>76</td>\n",
       "      <td>48</td>\n",
       "      <td>180</td>\n",
       "      <td>32.9</td>\n",
       "      <td>0.171</td>\n",
       "      <td>63</td>\n",
       "      <td>0</td>\n",
       "    </tr>\n",
       "    <tr>\n",
       "      <th>764</th>\n",
       "      <td>2</td>\n",
       "      <td>122</td>\n",
       "      <td>70</td>\n",
       "      <td>27</td>\n",
       "      <td>0</td>\n",
       "      <td>36.8</td>\n",
       "      <td>0.340</td>\n",
       "      <td>27</td>\n",
       "      <td>0</td>\n",
       "    </tr>\n",
       "    <tr>\n",
       "      <th>765</th>\n",
       "      <td>5</td>\n",
       "      <td>121</td>\n",
       "      <td>72</td>\n",
       "      <td>23</td>\n",
       "      <td>112</td>\n",
       "      <td>26.2</td>\n",
       "      <td>0.245</td>\n",
       "      <td>30</td>\n",
       "      <td>0</td>\n",
       "    </tr>\n",
       "    <tr>\n",
       "      <th>766</th>\n",
       "      <td>1</td>\n",
       "      <td>126</td>\n",
       "      <td>60</td>\n",
       "      <td>0</td>\n",
       "      <td>0</td>\n",
       "      <td>30.1</td>\n",
       "      <td>0.349</td>\n",
       "      <td>47</td>\n",
       "      <td>1</td>\n",
       "    </tr>\n",
       "    <tr>\n",
       "      <th>767</th>\n",
       "      <td>1</td>\n",
       "      <td>93</td>\n",
       "      <td>70</td>\n",
       "      <td>31</td>\n",
       "      <td>0</td>\n",
       "      <td>30.4</td>\n",
       "      <td>0.315</td>\n",
       "      <td>23</td>\n",
       "      <td>0</td>\n",
       "    </tr>\n",
       "  </tbody>\n",
       "</table>\n",
       "<p>768 rows × 9 columns</p>\n",
       "</div>"
      ],
      "text/plain": [
       "     Pregnancies  Glucose  BloodPressure  SkinThickness  Insulin   BMI  \\\n",
       "0              6      148             72             35        0  33.6   \n",
       "1              1       85             66             29        0  26.6   \n",
       "2              8      183             64              0        0  23.3   \n",
       "3              1       89             66             23       94  28.1   \n",
       "4              0      137             40             35      168  43.1   \n",
       "..           ...      ...            ...            ...      ...   ...   \n",
       "763           10      101             76             48      180  32.9   \n",
       "764            2      122             70             27        0  36.8   \n",
       "765            5      121             72             23      112  26.2   \n",
       "766            1      126             60              0        0  30.1   \n",
       "767            1       93             70             31        0  30.4   \n",
       "\n",
       "     DiabetesPedigreeFunction  Age  Outcome  \n",
       "0                       0.627   50        1  \n",
       "1                       0.351   31        0  \n",
       "2                       0.672   32        1  \n",
       "3                       0.167   21        0  \n",
       "4                       2.288   33        1  \n",
       "..                        ...  ...      ...  \n",
       "763                     0.171   63        0  \n",
       "764                     0.340   27        0  \n",
       "765                     0.245   30        0  \n",
       "766                     0.349   47        1  \n",
       "767                     0.315   23        0  \n",
       "\n",
       "[768 rows x 9 columns]"
      ]
     },
     "execution_count": 7,
     "metadata": {},
     "output_type": "execute_result"
    }
   ],
   "source": [
    "df=pd.read_csv(\"D:\\\\python_datascience\\\\data sets\\\\diabetes.csv\")\n",
    "df"
   ]
  },
  {
   "cell_type": "markdown",
   "id": "a29d9bf8",
   "metadata": {},
   "source": [
    "####  Checking shape of Data"
   ]
  },
  {
   "cell_type": "code",
   "execution_count": 64,
   "id": "23c63dda",
   "metadata": {},
   "outputs": [
    {
     "data": {
      "text/plain": [
       "(768, 9)"
      ]
     },
     "execution_count": 64,
     "metadata": {},
     "output_type": "execute_result"
    }
   ],
   "source": [
    "df.shape"
   ]
  },
  {
   "cell_type": "markdown",
   "id": "0bef8749",
   "metadata": {},
   "source": [
    "#### Checking missing values "
   ]
  },
  {
   "cell_type": "code",
   "execution_count": 65,
   "id": "e4c29873",
   "metadata": {},
   "outputs": [
    {
     "data": {
      "text/plain": [
       "Pregnancies                 0\n",
       "Glucose                     0\n",
       "BloodPressure               0\n",
       "SkinThickness               0\n",
       "Insulin                     0\n",
       "BMI                         0\n",
       "DiabetesPedigreeFunction    0\n",
       "Age                         0\n",
       "Outcome                     0\n",
       "dtype: int64"
      ]
     },
     "execution_count": 65,
     "metadata": {},
     "output_type": "execute_result"
    }
   ],
   "source": [
    "df.isnull().sum()"
   ]
  },
  {
   "cell_type": "markdown",
   "id": "f77698ad",
   "metadata": {},
   "source": [
    "#### Checking class imbalance"
   ]
  },
  {
   "cell_type": "code",
   "execution_count": 66,
   "id": "1a4d39ee",
   "metadata": {},
   "outputs": [
    {
     "data": {
      "text/plain": [
       "0    500\n",
       "1    268\n",
       "Name: Outcome, dtype: int64"
      ]
     },
     "execution_count": 66,
     "metadata": {},
     "output_type": "execute_result"
    }
   ],
   "source": [
    "df[\"Outcome\"].value_counts()"
   ]
  },
  {
   "cell_type": "markdown",
   "id": "699c363c",
   "metadata": {},
   "source": [
    " It is showing there is no class imbalance in the data "
   ]
  },
  {
   "cell_type": "markdown",
   "id": "542eddfa",
   "metadata": {},
   "source": [
    "#### Dividing the data set into features as x and target as y"
   ]
  },
  {
   "cell_type": "code",
   "execution_count": 68,
   "id": "a9dfce2d",
   "metadata": {},
   "outputs": [],
   "source": [
    "x=df.drop(columns=[\"Outcome\"]) ## features which are factors of diabetes\n",
    "y=df[\"Outcome\"] ## target :   Indicates whether the person has diabetes or not "
   ]
  },
  {
   "cell_type": "markdown",
   "id": "61bca61e",
   "metadata": {},
   "source": [
    "### Dividing the dataset into training and test data as 75% as training data and 25% as test data "
   ]
  },
  {
   "cell_type": "code",
   "execution_count": 70,
   "id": "39897f14",
   "metadata": {},
   "outputs": [],
   "source": [
    "x_train,x_test,y_train,y_test=train_test_split(x,y,random_state=3) # default : 0.25"
   ]
  },
  {
   "cell_type": "markdown",
   "id": "da392c0d",
   "metadata": {},
   "source": [
    "#### Checking the shape of training data and test data "
   ]
  },
  {
   "cell_type": "code",
   "execution_count": 11,
   "id": "0a5befcb",
   "metadata": {},
   "outputs": [
    {
     "name": "stdout",
     "output_type": "stream",
     "text": [
      "(576, 8)\n",
      "(192, 8)\n",
      "(576,)\n",
      "(192,)\n"
     ]
    }
   ],
   "source": [
    "print(x_train.shape)\n",
    "print(x_test.shape)\n",
    "print(y_train.shape)\n",
    "print(y_test.shape)"
   ]
  },
  {
   "cell_type": "markdown",
   "id": "1ec6bac3",
   "metadata": {},
   "source": [
    "#### Running Various Models\n",
    "\n",
    "#### Comparable algorithms\n",
    "\n",
    "1- Logistic Regression\n",
    "2- KNN\n",
    "3- SVM\n",
    "4 -XGBoost\n"
   ]
  },
  {
   "cell_type": "code",
   "execution_count": 73,
   "id": "6074b061",
   "metadata": {},
   "outputs": [
    {
     "name": "stdout",
     "output_type": "stream",
     "text": [
      "accuracy of  LogisticRegression : 72.91666666666666\n",
      "time in seconds 0.03999757766723633 \n",
      "\n",
      "accuracy of  KNN : 68.22916666666666\n",
      "time in seconds 0.008000850677490234 \n",
      "\n",
      "accuracy of  SVM : 69.79166666666666\n",
      "time in seconds 0.022686004638671875 \n",
      "\n",
      "accuracy of  XGB : 75.0\n",
      "time in seconds 0.09372687339782715 \n",
      "\n"
     ]
    },
    {
     "name": "stderr",
     "output_type": "stream",
     "text": [
      "C:\\Users\\acer\\anaconda3\\lib\\site-packages\\sklearn\\linear_model\\_logistic.py:814: ConvergenceWarning: lbfgs failed to converge (status=1):\n",
      "STOP: TOTAL NO. of ITERATIONS REACHED LIMIT.\n",
      "\n",
      "Increase the number of iterations (max_iter) or scale the data as shown in:\n",
      "    https://scikit-learn.org/stable/modules/preprocessing.html\n",
      "Please also refer to the documentation for alternative solver options:\n",
      "    https://scikit-learn.org/stable/modules/linear_model.html#logistic-regression\n",
      "  n_iter_i = _check_optimize_result(\n"
     ]
    }
   ],
   "source": [
    "\n",
    "names=[]\n",
    "#scoring=\"accuracy\"\n",
    "\n",
    "models=[]\n",
    "models.append((\"LogisticRegression\",LogisticRegression()))\n",
    "models.append((\"KNN\",KNeighborsClassifier()))\n",
    "models.append((\"SVM\",SVC()))\n",
    "models.append((\"XGB\",XGBClassifier()))\n",
    "## evaluate each model in turn\n",
    "\n",
    "for name,model in models:\n",
    "        start_time=time.time()\n",
    "        model.fit(x_train,y_train)\n",
    "        y_pred=model.predict(x_test)  ## predictions on test data\n",
    "        predictions=[round(value)for value in y_pred]\n",
    "        # evaluate predictions\n",
    "        accuracy=accuracy_score(y_test,predictions)  ### accuracy\n",
    "        print(\"accuracy of \",name,\":\",accuracy*100)\n",
    "        print(\"time in seconds\",time.time()-start_time,\"\\n\")\n",
    "              \n",
    "            "
   ]
  },
  {
   "cell_type": "markdown",
   "id": "43e825b2",
   "metadata": {},
   "source": [
    "### we can see XGB gives best performance out of others i.e 75% although it execution times takes more than others i.e 0.97 seconds because since the shape of the diabtetes data set is 768 rows and 9 columns so it does not give much speed on small data set it really works when we have distributed system"
   ]
  },
  {
   "cell_type": "markdown",
   "id": "550d7469",
   "metadata": {},
   "source": [
    "### Hyper parameter tuning of some parameters to get improvement in its performance "
   ]
  },
  {
   "cell_type": "code",
   "execution_count": 76,
   "id": "1e66c57e",
   "metadata": {},
   "outputs": [
    {
     "data": {
      "text/plain": [
       "XGBClassifier(base_score=0.5, booster='gbtree', callbacks=None,\n",
       "              colsample_bylevel=1, colsample_bynode=1, colsample_bytree=1,\n",
       "              early_stopping_rounds=None, enable_categorical=False,\n",
       "              eval_metric=None, gamma=0, gpu_id=-1, grow_policy='depthwise',\n",
       "              importance_type=None, interaction_constraints='',\n",
       "              learning_rate=0.300000012, max_bin=256, max_cat_to_onehot=4,\n",
       "              max_delta_step=0, max_depth=6, max_leaves=0, min_child_weight=1,\n",
       "              missing=nan, monotone_constraints='()', n_estimators=100,\n",
       "              n_jobs=0, num_parallel_tree=1, predictor='auto', random_state=0,\n",
       "              reg_alpha=0, reg_lambda=1, ...)"
      ]
     },
     "execution_count": 76,
     "metadata": {},
     "output_type": "execute_result"
    }
   ],
   "source": [
    "xgbmodel=XGBClassifier() ## taking default parameters\n",
    "xgbmodel.fit(x_train,y_train) ## model fitting"
   ]
  },
  {
   "cell_type": "code",
   "execution_count": 77,
   "id": "22f99815",
   "metadata": {},
   "outputs": [
    {
     "data": {
      "text/plain": [
       "array([0, 1, 0, 1, 0, 0, 0, 0, 0, 0, 1, 0, 0, 1, 1, 0, 0, 0, 0, 0, 0, 0,\n",
       "       0, 0, 0, 1, 0, 0, 1, 0, 1, 0, 0, 0, 0, 0, 0, 0, 0, 1, 1, 0, 0, 1,\n",
       "       0, 1, 0, 0, 1, 1, 1, 0, 0, 1, 1, 0, 1, 1, 0, 0, 1, 0, 1, 1, 1, 1,\n",
       "       1, 1, 0, 1, 1, 0, 0, 0, 0, 1, 0, 0, 0, 0, 1, 1, 0, 1, 1, 0, 0, 0,\n",
       "       0, 0, 0, 1, 1, 0, 0, 0, 1, 0, 1, 0, 0, 1, 0, 1, 0, 0, 0, 1, 0, 0,\n",
       "       0, 0, 1, 0, 1, 0, 1, 1, 1, 0, 0, 0, 0, 0, 0, 0, 0, 1, 0, 0, 1, 0,\n",
       "       1, 0, 1, 0, 1, 1, 0, 0, 0, 0, 0, 0, 1, 0, 1, 1, 0, 0, 0, 0, 1, 0,\n",
       "       0, 0, 0, 0, 1, 0, 1, 1, 0, 0, 0, 0, 1, 0, 1, 0, 0, 1, 0, 0, 1, 0,\n",
       "       1, 1, 0, 1, 0, 0, 1, 0, 1, 1, 0, 0, 1, 0, 0, 1])"
      ]
     },
     "execution_count": 77,
     "metadata": {},
     "output_type": "execute_result"
    }
   ],
   "source": [
    "y_pred=xgbmodel.predict(x_test)  ## predictions on test data \n",
    "y_pred"
   ]
  },
  {
   "cell_type": "code",
   "execution_count": 78,
   "id": "47780a06",
   "metadata": {},
   "outputs": [
    {
     "data": {
      "text/plain": [
       "0.75"
      ]
     },
     "execution_count": 78,
     "metadata": {},
     "output_type": "execute_result"
    }
   ],
   "source": [
    "accuracy=accuracy_score(y_test,y_pred)  ### accuracy \n",
    "accuracy"
   ]
  },
  {
   "cell_type": "markdown",
   "id": "a3055b8c",
   "metadata": {},
   "source": [
    "75% accuracy"
   ]
  },
  {
   "cell_type": "code",
   "execution_count": 82,
   "id": "27ea8036",
   "metadata": {},
   "outputs": [
    {
     "data": {
      "text/plain": [
       "0.7291666666666666"
      ]
     },
     "execution_count": 82,
     "metadata": {},
     "output_type": "execute_result"
    }
   ],
   "source": [
    "### hyper parameter tuning on some parameters\n",
    "## learning rate  =0.1 \n",
    "xgbmodel=XGBClassifier(learning_rate=0.1)\n",
    "xgbmodel.fit(x_train,y_train)\n",
    "y_pred=xgbmodel.predict(x_test)\n",
    "accuracy=accuracy_score(y_test,y_pred)\n",
    "accuracy"
   ]
  },
  {
   "cell_type": "code",
   "execution_count": 81,
   "id": "73825258",
   "metadata": {},
   "outputs": [
    {
     "data": {
      "text/plain": [
       "0.71875"
      ]
     },
     "execution_count": 81,
     "metadata": {},
     "output_type": "execute_result"
    }
   ],
   "source": [
    "## learning rate  =0.01 \n",
    "xgbmodel=XGBClassifier(learning_rate=0.01)\n",
    "xgbmodel.fit(x_train,y_train)\n",
    "y_pred=xgbmodel.predict(x_test)\n",
    "accuracy=accuracy_score(y_test,y_pred)\n",
    "accuracy"
   ]
  },
  {
   "cell_type": "code",
   "execution_count": 85,
   "id": "815304fb",
   "metadata": {},
   "outputs": [
    {
     "data": {
      "text/plain": [
       "0.6979166666666666"
      ]
     },
     "execution_count": 85,
     "metadata": {},
     "output_type": "execute_result"
    }
   ],
   "source": [
    "## learning_rate=0.3\n",
    "xgbmodel=XGBClassifier(learning_rate=0.5) \n",
    "xgbmodel.fit(x_train,y_train)\n",
    "y_pred=xgbmodel.predict(x_test)\n",
    "accuracy=accuracy_score(y_test,y_pred)\n",
    "accuracy"
   ]
  },
  {
   "cell_type": "code",
   "execution_count": 86,
   "id": "b2e6ed81",
   "metadata": {},
   "outputs": [
    {
     "data": {
      "text/plain": [
       "0.6666666666666666"
      ]
     },
     "execution_count": 86,
     "metadata": {},
     "output_type": "execute_result"
    }
   ],
   "source": [
    "xgbmodel=XGBClassifier(gamma=50) \n",
    "xgbmodel.fit(x_train,y_train)\n",
    "y_pred=xgbmodel.predict(x_test)\n",
    "accuracy=accuracy_score(y_test,y_pred)\n",
    "accuracy"
   ]
  },
  {
   "cell_type": "code",
   "execution_count": 87,
   "id": "d6da7974",
   "metadata": {},
   "outputs": [
    {
     "data": {
      "text/plain": [
       "0.6822916666666666"
      ]
     },
     "execution_count": 87,
     "metadata": {},
     "output_type": "execute_result"
    }
   ],
   "source": [
    "xgbmodel=XGBClassifier(gamma=10) \n",
    "xgbmodel.fit(x_train,y_train)\n",
    "y_pred=xgbmodel.predict(x_test)\n",
    "accuracy=accuracy_score(y_test,y_pred)\n",
    "accuracy"
   ]
  },
  {
   "cell_type": "code",
   "execution_count": 93,
   "id": "c9803fe2",
   "metadata": {},
   "outputs": [
    {
     "data": {
      "text/plain": [
       "0.6770833333333334"
      ]
     },
     "execution_count": 93,
     "metadata": {},
     "output_type": "execute_result"
    }
   ],
   "source": [
    "xgbmodel=XGBClassifier(gamma=10,learning_rate=0.01) \n",
    "xgbmodel.fit(x_train,y_train)\n",
    "y_pred=xgbmodel.predict(x_test)\n",
    "accuracy=accuracy_score(y_test,y_pred)\n",
    "accuracy"
   ]
  },
  {
   "cell_type": "markdown",
   "id": "d5808376",
   "metadata": {},
   "source": [
    "By changing some parameters like learning rate and gamma we cant see any improvements in accuracy so we can do gridsearchcv to get optimal parameters on this data corresponding to xgboost"
   ]
  },
  {
   "cell_type": "code",
   "execution_count": null,
   "id": "66c7282c",
   "metadata": {},
   "outputs": [],
   "source": []
  }
 ],
 "metadata": {
  "kernelspec": {
   "display_name": "Python 3 (ipykernel)",
   "language": "python",
   "name": "python3"
  },
  "language_info": {
   "codemirror_mode": {
    "name": "ipython",
    "version": 3
   },
   "file_extension": ".py",
   "mimetype": "text/x-python",
   "name": "python",
   "nbconvert_exporter": "python",
   "pygments_lexer": "ipython3",
   "version": "3.9.7"
  }
 },
 "nbformat": 4,
 "nbformat_minor": 5
}
