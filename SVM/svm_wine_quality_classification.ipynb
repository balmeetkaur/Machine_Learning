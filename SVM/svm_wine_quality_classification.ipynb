{
 "cells": [
  {
   "cell_type": "markdown",
   "id": "d1bd2302",
   "metadata": {},
   "source": [
    "### Importing the required libraries"
   ]
  },
  {
   "cell_type": "code",
   "execution_count": 1,
   "id": "5e3b3800",
   "metadata": {},
   "outputs": [],
   "source": [
    "import pandas as pd\n",
    "import numpy as np\n",
    "from sklearn.model_selection import train_test_split,GridSearchCV\n",
    "from sklearn.svm import SVC\n",
    "from sklearn.metrics import accuracy_score, confusion_matrix, roc_curve, roc_auc_score,f1_score "
   ]
  },
  {
   "cell_type": "markdown",
   "id": "ea348ece",
   "metadata": {},
   "source": [
    "### Loading the data set"
   ]
  },
  {
   "cell_type": "code",
   "execution_count": 2,
   "id": "904d8f38",
   "metadata": {},
   "outputs": [
    {
     "data": {
      "text/html": [
       "<div>\n",
       "<style scoped>\n",
       "    .dataframe tbody tr th:only-of-type {\n",
       "        vertical-align: middle;\n",
       "    }\n",
       "\n",
       "    .dataframe tbody tr th {\n",
       "        vertical-align: top;\n",
       "    }\n",
       "\n",
       "    .dataframe thead th {\n",
       "        text-align: right;\n",
       "    }\n",
       "</style>\n",
       "<table border=\"1\" class=\"dataframe\">\n",
       "  <thead>\n",
       "    <tr style=\"text-align: right;\">\n",
       "      <th></th>\n",
       "      <th>fixed acidity</th>\n",
       "      <th>volatile acidity</th>\n",
       "      <th>citric acid</th>\n",
       "      <th>residual sugar</th>\n",
       "      <th>chlorides</th>\n",
       "      <th>free sulfur dioxide</th>\n",
       "      <th>total sulfur dioxide</th>\n",
       "      <th>density</th>\n",
       "      <th>pH</th>\n",
       "      <th>sulphates</th>\n",
       "      <th>alcohol</th>\n",
       "      <th>quality</th>\n",
       "    </tr>\n",
       "  </thead>\n",
       "  <tbody>\n",
       "    <tr>\n",
       "      <th>0</th>\n",
       "      <td>7.4</td>\n",
       "      <td>0.70</td>\n",
       "      <td>0.00</td>\n",
       "      <td>1.9</td>\n",
       "      <td>0.076</td>\n",
       "      <td>11.0</td>\n",
       "      <td>34.0</td>\n",
       "      <td>0.9978</td>\n",
       "      <td>3.51</td>\n",
       "      <td>0.56</td>\n",
       "      <td>9.4</td>\n",
       "      <td>5</td>\n",
       "    </tr>\n",
       "    <tr>\n",
       "      <th>1</th>\n",
       "      <td>7.8</td>\n",
       "      <td>0.88</td>\n",
       "      <td>0.00</td>\n",
       "      <td>2.6</td>\n",
       "      <td>0.098</td>\n",
       "      <td>25.0</td>\n",
       "      <td>67.0</td>\n",
       "      <td>0.9968</td>\n",
       "      <td>3.20</td>\n",
       "      <td>0.68</td>\n",
       "      <td>9.8</td>\n",
       "      <td>5</td>\n",
       "    </tr>\n",
       "    <tr>\n",
       "      <th>2</th>\n",
       "      <td>7.8</td>\n",
       "      <td>0.76</td>\n",
       "      <td>0.04</td>\n",
       "      <td>2.3</td>\n",
       "      <td>0.092</td>\n",
       "      <td>15.0</td>\n",
       "      <td>54.0</td>\n",
       "      <td>0.9970</td>\n",
       "      <td>3.26</td>\n",
       "      <td>0.65</td>\n",
       "      <td>9.8</td>\n",
       "      <td>5</td>\n",
       "    </tr>\n",
       "    <tr>\n",
       "      <th>3</th>\n",
       "      <td>11.2</td>\n",
       "      <td>0.28</td>\n",
       "      <td>0.56</td>\n",
       "      <td>1.9</td>\n",
       "      <td>0.075</td>\n",
       "      <td>17.0</td>\n",
       "      <td>60.0</td>\n",
       "      <td>0.9980</td>\n",
       "      <td>3.16</td>\n",
       "      <td>0.58</td>\n",
       "      <td>9.8</td>\n",
       "      <td>6</td>\n",
       "    </tr>\n",
       "    <tr>\n",
       "      <th>4</th>\n",
       "      <td>7.4</td>\n",
       "      <td>0.70</td>\n",
       "      <td>0.00</td>\n",
       "      <td>1.9</td>\n",
       "      <td>0.076</td>\n",
       "      <td>11.0</td>\n",
       "      <td>34.0</td>\n",
       "      <td>0.9978</td>\n",
       "      <td>3.51</td>\n",
       "      <td>0.56</td>\n",
       "      <td>9.4</td>\n",
       "      <td>5</td>\n",
       "    </tr>\n",
       "  </tbody>\n",
       "</table>\n",
       "</div>"
      ],
      "text/plain": [
       "   fixed acidity  volatile acidity  citric acid  residual sugar  chlorides  \\\n",
       "0            7.4              0.70         0.00             1.9      0.076   \n",
       "1            7.8              0.88         0.00             2.6      0.098   \n",
       "2            7.8              0.76         0.04             2.3      0.092   \n",
       "3           11.2              0.28         0.56             1.9      0.075   \n",
       "4            7.4              0.70         0.00             1.9      0.076   \n",
       "\n",
       "   free sulfur dioxide  total sulfur dioxide  density    pH  sulphates  \\\n",
       "0                 11.0                  34.0   0.9978  3.51       0.56   \n",
       "1                 25.0                  67.0   0.9968  3.20       0.68   \n",
       "2                 15.0                  54.0   0.9970  3.26       0.65   \n",
       "3                 17.0                  60.0   0.9980  3.16       0.58   \n",
       "4                 11.0                  34.0   0.9978  3.51       0.56   \n",
       "\n",
       "   alcohol  quality  \n",
       "0      9.4        5  \n",
       "1      9.8        5  \n",
       "2      9.8        5  \n",
       "3      9.8        6  \n",
       "4      9.4        5  "
      ]
     },
     "execution_count": 2,
     "metadata": {},
     "output_type": "execute_result"
    }
   ],
   "source": [
    "df=pd.read_csv(\"D:\\\\python_datascience\\\\machine_learning\\\\decision_tree\\\\Decision Trees \\\\Decision Trees\\\\winequality_red.csv\")\n",
    "df.head(5)"
   ]
  },
  {
   "cell_type": "markdown",
   "id": "6958d2a2",
   "metadata": {},
   "source": [
    "The data set consists following Input variables :\n",
    "1 - fixed acidity \n",
    "2 - volatile acidity  \n",
    "3 - citric acid  \n",
    "4 - residual sugar \n",
    "5 - chlorides  \n",
    "6 - free sulfur dioxide\n",
    "7 - total sulfur dioxide \n",
    "8 - density  \n",
    "9 - pH   \n",
    "10 - sulphates   \n",
    "11 - alcohol\n",
    "\n",
    "and the Output variable/target gives the quality of th wine based on the input variables: \n",
    "\n",
    "12 - quality (score between 0 and 10)"
   ]
  },
  {
   "cell_type": "markdown",
   "id": "55d3beca",
   "metadata": {},
   "source": [
    "### checking shape of data "
   ]
  },
  {
   "cell_type": "code",
   "execution_count": 3,
   "id": "6f556dc4",
   "metadata": {},
   "outputs": [
    {
     "data": {
      "text/plain": [
       "(1599, 12)"
      ]
     },
     "execution_count": 3,
     "metadata": {},
     "output_type": "execute_result"
    }
   ],
   "source": [
    "df.shape"
   ]
  },
  {
   "cell_type": "markdown",
   "id": "cb2eb498",
   "metadata": {},
   "source": [
    "### Basic information of data "
   ]
  },
  {
   "cell_type": "code",
   "execution_count": 4,
   "id": "90de5716",
   "metadata": {},
   "outputs": [
    {
     "name": "stdout",
     "output_type": "stream",
     "text": [
      "<class 'pandas.core.frame.DataFrame'>\n",
      "RangeIndex: 1599 entries, 0 to 1598\n",
      "Data columns (total 12 columns):\n",
      " #   Column                Non-Null Count  Dtype  \n",
      "---  ------                --------------  -----  \n",
      " 0   fixed acidity         1599 non-null   float64\n",
      " 1   volatile acidity      1599 non-null   float64\n",
      " 2   citric acid           1599 non-null   float64\n",
      " 3   residual sugar        1599 non-null   float64\n",
      " 4   chlorides             1599 non-null   float64\n",
      " 5   free sulfur dioxide   1599 non-null   float64\n",
      " 6   total sulfur dioxide  1599 non-null   float64\n",
      " 7   density               1599 non-null   float64\n",
      " 8   pH                    1599 non-null   float64\n",
      " 9   sulphates             1599 non-null   float64\n",
      " 10  alcohol               1599 non-null   float64\n",
      " 11  quality               1599 non-null   int64  \n",
      "dtypes: float64(11), int64(1)\n",
      "memory usage: 150.0 KB\n"
     ]
    }
   ],
   "source": [
    "df.info()"
   ]
  },
  {
   "cell_type": "markdown",
   "id": "e33aa7ae",
   "metadata": {},
   "source": [
    "#### Checking data types of columns "
   ]
  },
  {
   "cell_type": "code",
   "execution_count": 5,
   "id": "4bfd2d5f",
   "metadata": {},
   "outputs": [
    {
     "data": {
      "text/plain": [
       "fixed acidity           float64\n",
       "volatile acidity        float64\n",
       "citric acid             float64\n",
       "residual sugar          float64\n",
       "chlorides               float64\n",
       "free sulfur dioxide     float64\n",
       "total sulfur dioxide    float64\n",
       "density                 float64\n",
       "pH                      float64\n",
       "sulphates               float64\n",
       "alcohol                 float64\n",
       "quality                   int64\n",
       "dtype: object"
      ]
     },
     "execution_count": 5,
     "metadata": {},
     "output_type": "execute_result"
    }
   ],
   "source": [
    "df.dtypes"
   ]
  },
  {
   "cell_type": "markdown",
   "id": "66e61edb",
   "metadata": {},
   "source": [
    "all are numeric"
   ]
  },
  {
   "cell_type": "markdown",
   "id": "ade1763e",
   "metadata": {},
   "source": [
    "#### Checking missing values "
   ]
  },
  {
   "cell_type": "code",
   "execution_count": 6,
   "id": "77dfd6c2",
   "metadata": {},
   "outputs": [
    {
     "data": {
      "text/plain": [
       "fixed acidity           0\n",
       "volatile acidity        0\n",
       "citric acid             0\n",
       "residual sugar          0\n",
       "chlorides               0\n",
       "free sulfur dioxide     0\n",
       "total sulfur dioxide    0\n",
       "density                 0\n",
       "pH                      0\n",
       "sulphates               0\n",
       "alcohol                 0\n",
       "quality                 0\n",
       "dtype: int64"
      ]
     },
     "execution_count": 6,
     "metadata": {},
     "output_type": "execute_result"
    }
   ],
   "source": [
    "df.isnull().sum()"
   ]
  },
  {
   "cell_type": "markdown",
   "id": "bea9f119",
   "metadata": {},
   "source": [
    "the data has no missing values "
   ]
  },
  {
   "cell_type": "markdown",
   "id": "e98247cc",
   "metadata": {},
   "source": [
    "#### Seggregating features and target"
   ]
  },
  {
   "cell_type": "code",
   "execution_count": 7,
   "id": "c69fc895",
   "metadata": {},
   "outputs": [],
   "source": [
    "x=df.drop(columns=[\"quality\"])\n",
    "y=df[\"quality\"]"
   ]
  },
  {
   "cell_type": "markdown",
   "id": "00c98e23",
   "metadata": {},
   "source": [
    "### do scaling of features "
   ]
  },
  {
   "cell_type": "code",
   "execution_count": 8,
   "id": "1c3536f9",
   "metadata": {},
   "outputs": [],
   "source": [
    "from sklearn.preprocessing import StandardScaler\n",
    "scaler= StandardScaler()\n",
    "new_data=scaler.fit_transform(x)"
   ]
  },
  {
   "cell_type": "code",
   "execution_count": 9,
   "id": "e3ab14bc",
   "metadata": {},
   "outputs": [
    {
     "data": {
      "text/plain": [
       "array([[-0.52835961,  0.96187667, -1.39147228, ...,  1.28864292,\n",
       "        -0.57920652, -0.96024611],\n",
       "       [-0.29854743,  1.96744245, -1.39147228, ..., -0.7199333 ,\n",
       "         0.1289504 , -0.58477711],\n",
       "       [-0.29854743,  1.29706527, -1.18607043, ..., -0.33117661,\n",
       "        -0.04808883, -0.58477711],\n",
       "       ...,\n",
       "       [-1.1603431 , -0.09955388, -0.72391627, ...,  0.70550789,\n",
       "         0.54204194,  0.54162988],\n",
       "       [-1.39015528,  0.65462046, -0.77526673, ...,  1.6773996 ,\n",
       "         0.30598963, -0.20930812],\n",
       "       [-1.33270223, -1.21684919,  1.02199944, ...,  0.51112954,\n",
       "         0.01092425,  0.54162988]])"
      ]
     },
     "execution_count": 9,
     "metadata": {},
     "output_type": "execute_result"
    }
   ],
   "source": [
    "new_data"
   ]
  },
  {
   "cell_type": "markdown",
   "id": "af33ca57",
   "metadata": {},
   "source": [
    "#### Checking class imbalance"
   ]
  },
  {
   "cell_type": "code",
   "execution_count": 10,
   "id": "54b08794",
   "metadata": {},
   "outputs": [
    {
     "data": {
      "text/plain": [
       "5    681\n",
       "6    638\n",
       "7    199\n",
       "4     53\n",
       "8     18\n",
       "3     10\n",
       "Name: quality, dtype: int64"
      ]
     },
     "execution_count": 10,
     "metadata": {},
     "output_type": "execute_result"
    }
   ],
   "source": [
    "df[\"quality\"].value_counts()"
   ]
  },
  {
   "cell_type": "markdown",
   "id": "b9c10268",
   "metadata": {},
   "source": [
    "here ther is class imbalance so handle it using smote  : oversampling "
   ]
  },
  {
   "cell_type": "code",
   "execution_count": 11,
   "id": "1825344f",
   "metadata": {},
   "outputs": [],
   "source": [
    "from imblearn.over_sampling import SMOTE"
   ]
  },
  {
   "cell_type": "code",
   "execution_count": 12,
   "id": "d77f0bf9",
   "metadata": {},
   "outputs": [],
   "source": [
    "## oversampling \n",
    "smote=SMOTE()\n",
    "x_smote,y_smote=smote.fit_resample(new_data,y)\n"
   ]
  },
  {
   "cell_type": "code",
   "execution_count": 13,
   "id": "4a87d74b",
   "metadata": {},
   "outputs": [
    {
     "data": {
      "text/plain": [
       "Counter({5: 681, 6: 681, 7: 681, 4: 681, 8: 681, 3: 681})"
      ]
     },
     "execution_count": 13,
     "metadata": {},
     "output_type": "execute_result"
    }
   ],
   "source": [
    "## checking new count of all classes records\n",
    "from collections import Counter\n",
    "Counter(y_smote)"
   ]
  },
  {
   "cell_type": "code",
   "execution_count": 14,
   "id": "509e37c1",
   "metadata": {},
   "outputs": [
    {
     "name": "stdout",
     "output_type": "stream",
     "text": [
      "(4086, 11)\n",
      "(4086,)\n"
     ]
    }
   ],
   "source": [
    "## checking shape of data after over sampling \n",
    "print(x_smote.shape)\n",
    "print(y_smote.shape)"
   ]
  },
  {
   "cell_type": "markdown",
   "id": "53a0cab1",
   "metadata": {},
   "source": [
    "### Now Dividing  this smote data(over sampled data)  into training and test data"
   ]
  },
  {
   "cell_type": "code",
   "execution_count": 15,
   "id": "78e56771",
   "metadata": {},
   "outputs": [],
   "source": [
    "x_train,x_test,y_train,y_test = train_test_split(x_smote,y_smote,test_size = 0.25, random_state= 42)"
   ]
  },
  {
   "cell_type": "markdown",
   "id": "64177b5e",
   "metadata": {},
   "source": [
    "#### Getting shape of train and test data"
   ]
  },
  {
   "cell_type": "code",
   "execution_count": 16,
   "id": "f0bfb95a",
   "metadata": {},
   "outputs": [
    {
     "name": "stdout",
     "output_type": "stream",
     "text": [
      "(3064, 11)\n",
      "(3064,)\n",
      "(1022, 11)\n",
      "(1022,)\n"
     ]
    }
   ],
   "source": [
    "print(x_train.shape)\n",
    "print(y_train.shape)\n",
    "print(x_test.shape)\n",
    "print(y_test.shape)"
   ]
  },
  {
   "cell_type": "markdown",
   "id": "c00098f9",
   "metadata": {},
   "source": [
    "### SVM Classifier "
   ]
  },
  {
   "cell_type": "code",
   "execution_count": 17,
   "id": "83a03251",
   "metadata": {},
   "outputs": [
    {
     "data": {
      "text/plain": [
       "SVC()"
      ]
     },
     "execution_count": 17,
     "metadata": {},
     "output_type": "execute_result"
    }
   ],
   "source": [
    "model=SVC() # taking default parameters\n",
    "model.fit(x_train,y_train) ## training of model"
   ]
  },
  {
   "cell_type": "markdown",
   "id": "0e373948",
   "metadata": {},
   "source": [
    "#### Predictions "
   ]
  },
  {
   "cell_type": "code",
   "execution_count": 18,
   "id": "dbfba5b1",
   "metadata": {},
   "outputs": [],
   "source": [
    "y_pred=model.predict(x_test)"
   ]
  },
  {
   "cell_type": "markdown",
   "id": "c0389a65",
   "metadata": {},
   "source": [
    "### Model Evaluation"
   ]
  },
  {
   "cell_type": "markdown",
   "id": "4b173afb",
   "metadata": {},
   "source": [
    "#### 1. Accuracy "
   ]
  },
  {
   "cell_type": "code",
   "execution_count": 19,
   "id": "8059c7c5",
   "metadata": {},
   "outputs": [
    {
     "data": {
      "text/plain": [
       "0.7573385518590998"
      ]
     },
     "execution_count": 19,
     "metadata": {},
     "output_type": "execute_result"
    }
   ],
   "source": [
    "acc=accuracy_score(y_test,y_pred)\n",
    "acc"
   ]
  },
  {
   "cell_type": "markdown",
   "id": "1d63e7f3",
   "metadata": {},
   "source": [
    "#### 2. Confusion Matrix"
   ]
  },
  {
   "cell_type": "code",
   "execution_count": 20,
   "id": "4598efa5",
   "metadata": {},
   "outputs": [
    {
     "data": {
      "text/plain": [
       "array([[165,   0,   0,   0,   0,   0],\n",
       "       [ 13, 142,   9,   1,   0,   0],\n",
       "       [ 12,  24, 115,  24,   9,   1],\n",
       "       [  6,  18,  48,  77,  32,  12],\n",
       "       [  0,   4,   4,  13, 108,  18],\n",
       "       [  0,   0,   0,   0,   0, 167]], dtype=int64)"
      ]
     },
     "execution_count": 20,
     "metadata": {},
     "output_type": "execute_result"
    }
   ],
   "source": [
    "c=confusion_matrix(y_test,y_pred)\n",
    "c"
   ]
  },
  {
   "cell_type": "markdown",
   "id": "4d3362ae",
   "metadata": {},
   "source": [
    "#### 3. F1 Score"
   ]
  },
  {
   "cell_type": "code",
   "execution_count": 21,
   "id": "2e3bc344",
   "metadata": {},
   "outputs": [
    {
     "data": {
      "text/plain": [
       "0.7417149167537872"
      ]
     },
     "execution_count": 21,
     "metadata": {},
     "output_type": "execute_result"
    }
   ],
   "source": [
    "f1=f1_score(y_test,y_pred,average=\"weighted\")\n",
    "f1"
   ]
  },
  {
   "cell_type": "markdown",
   "id": "e92d3d9d",
   "metadata": {},
   "source": [
    "As observed, the accuracy of the model is quite low. We need to implement the grid search approach to optimize the parameters to give the best accuracy."
   ]
  },
  {
   "cell_type": "markdown",
   "id": "8c2ea411",
   "metadata": {},
   "source": [
    "#### Implementing Grid Search"
   ]
  },
  {
   "cell_type": "code",
   "execution_count": 22,
   "id": "701b2f95",
   "metadata": {},
   "outputs": [],
   "source": [
    "param_grid={'gamma':[0.1,1,10,20,30,40],'C':[1,0.5,0.1,1.5,2,2.5]}"
   ]
  },
  {
   "cell_type": "code",
   "execution_count": 23,
   "id": "bf6961ea",
   "metadata": {},
   "outputs": [],
   "source": [
    "grid= GridSearchCV(SVC(),param_grid, verbose=3, n_jobs=-1)"
   ]
  },
  {
   "cell_type": "code",
   "execution_count": 24,
   "id": "adbbcf7b",
   "metadata": {},
   "outputs": [
    {
     "name": "stdout",
     "output_type": "stream",
     "text": [
      "Fitting 5 folds for each of 36 candidates, totalling 180 fits\n"
     ]
    },
    {
     "data": {
      "text/plain": [
       "GridSearchCV(estimator=SVC(), n_jobs=-1,\n",
       "             param_grid={'C': [1, 0.5, 0.1, 1.5, 2, 2.5],\n",
       "                         'gamma': [0.1, 1, 10, 20, 30, 40]},\n",
       "             verbose=3)"
      ]
     },
     "execution_count": 24,
     "metadata": {},
     "output_type": "execute_result"
    }
   ],
   "source": [
    "grid.fit(x_train,y_train)"
   ]
  },
  {
   "cell_type": "code",
   "execution_count": 25,
   "id": "a86358be",
   "metadata": {},
   "outputs": [
    {
     "data": {
      "text/plain": [
       "{'C': 2.5, 'gamma': 1}"
      ]
     },
     "execution_count": 25,
     "metadata": {},
     "output_type": "execute_result"
    }
   ],
   "source": [
    "grid.best_params_"
   ]
  },
  {
   "cell_type": "markdown",
   "id": "5ba9ac52",
   "metadata": {},
   "source": [
    "###  Now , Fit the model using optimal parameters of c and gamma"
   ]
  },
  {
   "cell_type": "code",
   "execution_count": 26,
   "id": "db19a3ce",
   "metadata": {},
   "outputs": [
    {
     "data": {
      "text/plain": [
       "SVC(C=2, gamma=1)"
      ]
     },
     "execution_count": 26,
     "metadata": {},
     "output_type": "execute_result"
    }
   ],
   "source": [
    "model_new=SVC(C=2 ,gamma=1)\n",
    "model_new.fit(x_train,y_train)"
   ]
  },
  {
   "cell_type": "code",
   "execution_count": 27,
   "id": "98027fb7",
   "metadata": {},
   "outputs": [
    {
     "data": {
      "text/plain": [
       "0.87573385518591"
      ]
     },
     "execution_count": 27,
     "metadata": {},
     "output_type": "execute_result"
    }
   ],
   "source": [
    "accuracy_score(y_test,model_new.predict(x_test))"
   ]
  },
  {
   "cell_type": "markdown",
   "id": "16f1506e",
   "metadata": {},
   "source": [
    "### Now, our accuracy got increased using hyper parameters tuning of c and gamma we can play with other parameters as well "
   ]
  },
  {
   "cell_type": "code",
   "execution_count": null,
   "id": "e72f5492",
   "metadata": {},
   "outputs": [],
   "source": []
  }
 ],
 "metadata": {
  "kernelspec": {
   "display_name": "Python 3 (ipykernel)",
   "language": "python",
   "name": "python3"
  },
  "language_info": {
   "codemirror_mode": {
    "name": "ipython",
    "version": 3
   },
   "file_extension": ".py",
   "mimetype": "text/x-python",
   "name": "python",
   "nbconvert_exporter": "python",
   "pygments_lexer": "ipython3",
   "version": "3.9.7"
  }
 },
 "nbformat": 4,
 "nbformat_minor": 5
}
